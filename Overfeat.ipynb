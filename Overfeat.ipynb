{
 "cells": [
  {
   "cell_type": "markdown",
   "metadata": {},
   "source": [
    "### Loading data"
   ]
  },
  {
   "cell_type": "code",
   "execution_count": 1,
   "metadata": {
    "collapsed": false
   },
   "outputs": [],
   "source": [
    "import time \n",
    "import sys\n",
    "import xgboost\n",
    "\n",
    "import pandas as pd\n",
    "import numpy as np\n",
    "import matplotlib.pyplot as plt\n",
    "\n",
    "from sklearn.model_selection import train_test_split\n",
    "from sklearn.ensemble import RandomForestClassifier\n",
    "from sklearn.metrics import accuracy_score, f1_score, precision_score, recall_score\n",
    "from sklearn.linear_model import SGDClassifier\n",
    "\n",
    "%matplotlib inline"
   ]
  },
  {
   "cell_type": "code",
   "execution_count": 2,
   "metadata": {
    "collapsed": false
   },
   "outputs": [],
   "source": [
    "X = pd.read_csv('data/train/overfeat_train_features.csv', header=None, index_col=0)\n",
    "y = np.array([0 if x.startswith('cat') else 1 for x in X.index])\n",
    "X_test = pd.read_csv('data/test/overfeat_test_features.csv', header=None, index_col=0)"
   ]
  },
  {
   "cell_type": "code",
   "execution_count": 3,
   "metadata": {
    "collapsed": false
   },
   "outputs": [
    {
     "name": "stdout",
     "output_type": "stream",
     "text": [
      "((22000, 4096), (22000,))\n"
     ]
    },
    {
     "data": {
      "text/html": [
       "<div>\n",
       "<table border=\"1\" class=\"dataframe\">\n",
       "  <thead>\n",
       "    <tr style=\"text-align: right;\">\n",
       "      <th></th>\n",
       "      <th>1</th>\n",
       "      <th>2</th>\n",
       "      <th>3</th>\n",
       "      <th>4</th>\n",
       "      <th>5</th>\n",
       "      <th>6</th>\n",
       "      <th>7</th>\n",
       "      <th>8</th>\n",
       "      <th>9</th>\n",
       "      <th>10</th>\n",
       "      <th>...</th>\n",
       "      <th>4087</th>\n",
       "      <th>4088</th>\n",
       "      <th>4089</th>\n",
       "      <th>4090</th>\n",
       "      <th>4091</th>\n",
       "      <th>4092</th>\n",
       "      <th>4093</th>\n",
       "      <th>4094</th>\n",
       "      <th>4095</th>\n",
       "      <th>4096</th>\n",
       "    </tr>\n",
       "    <tr>\n",
       "      <th>0</th>\n",
       "      <th></th>\n",
       "      <th></th>\n",
       "      <th></th>\n",
       "      <th></th>\n",
       "      <th></th>\n",
       "      <th></th>\n",
       "      <th></th>\n",
       "      <th></th>\n",
       "      <th></th>\n",
       "      <th></th>\n",
       "      <th></th>\n",
       "      <th></th>\n",
       "      <th></th>\n",
       "      <th></th>\n",
       "      <th></th>\n",
       "      <th></th>\n",
       "      <th></th>\n",
       "      <th></th>\n",
       "      <th></th>\n",
       "      <th></th>\n",
       "      <th></th>\n",
       "    </tr>\n",
       "  </thead>\n",
       "  <tbody>\n",
       "    <tr>\n",
       "      <th>cat.2526.jpg</th>\n",
       "      <td>0.584553</td>\n",
       "      <td>0.729148</td>\n",
       "      <td>-0.136258</td>\n",
       "      <td>-5.42511</td>\n",
       "      <td>-3.380940</td>\n",
       "      <td>-1.509520</td>\n",
       "      <td>-0.886637</td>\n",
       "      <td>0.316268</td>\n",
       "      <td>-0.904704</td>\n",
       "      <td>-4.739370</td>\n",
       "      <td>...</td>\n",
       "      <td>-1.029290</td>\n",
       "      <td>-3.10849</td>\n",
       "      <td>-5.367140</td>\n",
       "      <td>-0.673714</td>\n",
       "      <td>-3.307090</td>\n",
       "      <td>-2.12031</td>\n",
       "      <td>-1.15433</td>\n",
       "      <td>-3.28235</td>\n",
       "      <td>-4.256540</td>\n",
       "      <td>-3.961780</td>\n",
       "    </tr>\n",
       "    <tr>\n",
       "      <th>cat.8535.jpg</th>\n",
       "      <td>1.349980</td>\n",
       "      <td>-1.049400</td>\n",
       "      <td>-1.038460</td>\n",
       "      <td>-2.12334</td>\n",
       "      <td>-1.055460</td>\n",
       "      <td>-1.486560</td>\n",
       "      <td>0.695067</td>\n",
       "      <td>1.157750</td>\n",
       "      <td>-1.386230</td>\n",
       "      <td>-2.057630</td>\n",
       "      <td>...</td>\n",
       "      <td>-0.078132</td>\n",
       "      <td>-2.08642</td>\n",
       "      <td>-0.344660</td>\n",
       "      <td>-2.031090</td>\n",
       "      <td>-2.581280</td>\n",
       "      <td>1.29713</td>\n",
       "      <td>-2.82956</td>\n",
       "      <td>-1.39541</td>\n",
       "      <td>0.700663</td>\n",
       "      <td>-0.915354</td>\n",
       "    </tr>\n",
       "    <tr>\n",
       "      <th>cat.9344.jpg</th>\n",
       "      <td>0.655047</td>\n",
       "      <td>-0.255905</td>\n",
       "      <td>-0.606477</td>\n",
       "      <td>-1.40373</td>\n",
       "      <td>-2.499240</td>\n",
       "      <td>-1.437510</td>\n",
       "      <td>-1.711580</td>\n",
       "      <td>0.159415</td>\n",
       "      <td>-0.416739</td>\n",
       "      <td>0.078969</td>\n",
       "      <td>...</td>\n",
       "      <td>0.033017</td>\n",
       "      <td>-1.79220</td>\n",
       "      <td>-3.977030</td>\n",
       "      <td>-1.538780</td>\n",
       "      <td>-2.818170</td>\n",
       "      <td>-1.34778</td>\n",
       "      <td>-1.97717</td>\n",
       "      <td>-2.48982</td>\n",
       "      <td>0.102485</td>\n",
       "      <td>-2.985620</td>\n",
       "    </tr>\n",
       "    <tr>\n",
       "      <th>cat.12137.jpg</th>\n",
       "      <td>-0.050563</td>\n",
       "      <td>-0.478259</td>\n",
       "      <td>-1.247100</td>\n",
       "      <td>-1.44155</td>\n",
       "      <td>-2.975540</td>\n",
       "      <td>0.046482</td>\n",
       "      <td>-0.081402</td>\n",
       "      <td>0.373546</td>\n",
       "      <td>-0.645610</td>\n",
       "      <td>-1.069360</td>\n",
       "      <td>...</td>\n",
       "      <td>-0.648340</td>\n",
       "      <td>-3.03529</td>\n",
       "      <td>-0.556767</td>\n",
       "      <td>-1.561660</td>\n",
       "      <td>0.548373</td>\n",
       "      <td>-1.85041</td>\n",
       "      <td>-2.59632</td>\n",
       "      <td>-2.13929</td>\n",
       "      <td>-1.606650</td>\n",
       "      <td>-0.425182</td>\n",
       "    </tr>\n",
       "    <tr>\n",
       "      <th>cat.12016.jpg</th>\n",
       "      <td>-1.719080</td>\n",
       "      <td>-1.344220</td>\n",
       "      <td>0.765208</td>\n",
       "      <td>-0.05316</td>\n",
       "      <td>-0.161446</td>\n",
       "      <td>-1.013070</td>\n",
       "      <td>-0.476897</td>\n",
       "      <td>0.598665</td>\n",
       "      <td>0.177191</td>\n",
       "      <td>0.265093</td>\n",
       "      <td>...</td>\n",
       "      <td>0.007610</td>\n",
       "      <td>-2.08927</td>\n",
       "      <td>-1.931030</td>\n",
       "      <td>-1.060260</td>\n",
       "      <td>-1.999020</td>\n",
       "      <td>-1.60627</td>\n",
       "      <td>-1.54583</td>\n",
       "      <td>-2.86721</td>\n",
       "      <td>-0.455168</td>\n",
       "      <td>-1.054600</td>\n",
       "    </tr>\n",
       "  </tbody>\n",
       "</table>\n",
       "<p>5 rows × 4096 columns</p>\n",
       "</div>"
      ],
      "text/plain": [
       "                   1         2         3        4         5         6     \\\n",
       "0                                                                          \n",
       "cat.2526.jpg   0.584553  0.729148 -0.136258 -5.42511 -3.380940 -1.509520   \n",
       "cat.8535.jpg   1.349980 -1.049400 -1.038460 -2.12334 -1.055460 -1.486560   \n",
       "cat.9344.jpg   0.655047 -0.255905 -0.606477 -1.40373 -2.499240 -1.437510   \n",
       "cat.12137.jpg -0.050563 -0.478259 -1.247100 -1.44155 -2.975540  0.046482   \n",
       "cat.12016.jpg -1.719080 -1.344220  0.765208 -0.05316 -0.161446 -1.013070   \n",
       "\n",
       "                   7         8         9         10      ...         4087  \\\n",
       "0                                                        ...                \n",
       "cat.2526.jpg  -0.886637  0.316268 -0.904704 -4.739370    ...    -1.029290   \n",
       "cat.8535.jpg   0.695067  1.157750 -1.386230 -2.057630    ...    -0.078132   \n",
       "cat.9344.jpg  -1.711580  0.159415 -0.416739  0.078969    ...     0.033017   \n",
       "cat.12137.jpg -0.081402  0.373546 -0.645610 -1.069360    ...    -0.648340   \n",
       "cat.12016.jpg -0.476897  0.598665  0.177191  0.265093    ...     0.007610   \n",
       "\n",
       "                  4088      4089      4090      4091     4092     4093  \\\n",
       "0                                                                        \n",
       "cat.2526.jpg  -3.10849 -5.367140 -0.673714 -3.307090 -2.12031 -1.15433   \n",
       "cat.8535.jpg  -2.08642 -0.344660 -2.031090 -2.581280  1.29713 -2.82956   \n",
       "cat.9344.jpg  -1.79220 -3.977030 -1.538780 -2.818170 -1.34778 -1.97717   \n",
       "cat.12137.jpg -3.03529 -0.556767 -1.561660  0.548373 -1.85041 -2.59632   \n",
       "cat.12016.jpg -2.08927 -1.931030 -1.060260 -1.999020 -1.60627 -1.54583   \n",
       "\n",
       "                  4094      4095      4096  \n",
       "0                                           \n",
       "cat.2526.jpg  -3.28235 -4.256540 -3.961780  \n",
       "cat.8535.jpg  -1.39541  0.700663 -0.915354  \n",
       "cat.9344.jpg  -2.48982  0.102485 -2.985620  \n",
       "cat.12137.jpg -2.13929 -1.606650 -0.425182  \n",
       "cat.12016.jpg -2.86721 -0.455168 -1.054600  \n",
       "\n",
       "[5 rows x 4096 columns]"
      ]
     },
     "execution_count": 3,
     "metadata": {},
     "output_type": "execute_result"
    }
   ],
   "source": [
    "X_train, X_val, y_train, y_val = train_test_split(X, y, test_size=3000)\n",
    "print(X_train.shape, y_train.shape)\n",
    "X_train.head()"
   ]
  },
  {
   "cell_type": "markdown",
   "metadata": {},
   "source": [
    "-----\n",
    "\n",
    "### Random Forest"
   ]
  },
  {
   "cell_type": "code",
   "execution_count": 4,
   "metadata": {
    "collapsed": false
   },
   "outputs": [
    {
     "name": "stderr",
     "output_type": "stream",
     "text": [
      "[Parallel(n_jobs=4)]: Done  42 tasks      | elapsed:   26.9s\n",
      "[Parallel(n_jobs=4)]: Done 120 out of 120 | elapsed:  1.3min finished\n"
     ]
    },
    {
     "data": {
      "text/plain": [
       "RandomForestClassifier(bootstrap=True, class_weight=None, criterion='gini',\n",
       "            max_depth=12, max_features='auto', max_leaf_nodes=None,\n",
       "            min_impurity_split=1e-07, min_samples_leaf=1,\n",
       "            min_samples_split=2, min_weight_fraction_leaf=0.0,\n",
       "            n_estimators=120, n_jobs=4, oob_score=False, random_state=None,\n",
       "            verbose=1, warm_start=True)"
      ]
     },
     "execution_count": 4,
     "metadata": {},
     "output_type": "execute_result"
    }
   ],
   "source": [
    "# finetuned\n",
    "clf = RandomForestClassifier(\n",
    "    n_estimators=120,\n",
    "    max_depth=12,\n",
    "    warm_start=True,\n",
    "    n_jobs=4, verbose=1)\n",
    "clf.fit(X_train, y_train)"
   ]
  },
  {
   "cell_type": "code",
   "execution_count": 5,
   "metadata": {
    "collapsed": false
   },
   "outputs": [
    {
     "name": "stdout",
     "output_type": "stream",
     "text": [
      "Accuracy:\t0.9600\n",
      "Precition:\t0.9612\n",
      "Recall:\t\t0.9586\n",
      "F1-score:\t0.9599\n"
     ]
    },
    {
     "name": "stderr",
     "output_type": "stream",
     "text": [
      "[Parallel(n_jobs=4)]: Done  42 tasks      | elapsed:    0.0s\n",
      "[Parallel(n_jobs=4)]: Done 120 out of 120 | elapsed:    0.1s finished\n"
     ]
    }
   ],
   "source": [
    "y_pred = clf.predict(X_val)\n",
    "\n",
    "print('Accuracy:\\t%.4f' % accuracy_score(y_val, y_pred))\n",
    "print('Precition:\\t%.4f' % precision_score(y_val, y_pred))\n",
    "print('Recall:\\t\\t%.4f' % recall_score(y_val, y_pred))\n",
    "print('F1-score:\\t%.4f' % f1_score(y_val, y_pred))"
   ]
  },
  {
   "cell_type": "code",
   "execution_count": 6,
   "metadata": {
    "collapsed": false
   },
   "outputs": [
    {
     "data": {
      "image/png": "[encoded data removed]",
      "text/plain": [
       "<matplotlib.figure.Figure at 0x107c7a860>"
      ]
     },
     "metadata": {},
     "output_type": "display_data"
    }
   ],
   "source": [
    "plt.plot(clf.feature_importances_)\n",
    "plt.xlim((0, X.shape[1]))\n",
    "plt.title('Feature importance');"
   ]
  },
  {
   "cell_type": "code",
   "execution_count": null,
   "metadata": {
    "collapsed": true
   },
   "outputs": [],
   "source": [
    "y_pred = pd.DataFrame(clf.predict(X_test), columns=['label'], index=X_test.index)\n",
    "y_pred[y_pred['label'] == 0] = 'cat'\n",
    "y_pred[y_pred['label'] == 1] = 'dog'\n",
    "y_pred.to_csv('overfeat_rf.csv', index_label='file')"
   ]
  },
  {
   "cell_type": "markdown",
   "metadata": {},
   "source": [
    "-----\n",
    "\n",
    "### SGD"
   ]
  },
  {
   "cell_type": "code",
   "execution_count": 13,
   "metadata": {
    "collapsed": false
   },
   "outputs": [
    {
     "data": {
      "text/plain": [
       "SGDClassifier(alpha=0.0001, average=False, class_weight=None, epsilon=1.0,\n",
       "       eta0=0.0, fit_intercept=True, l1_ratio=0.15,\n",
       "       learning_rate='optimal', loss='hinge', n_iter=5, n_jobs=4,\n",
       "       penalty='l2', power_t=0.5, random_state=None, shuffle=True,\n",
       "       verbose=0, warm_start=False)"
      ]
     },
     "execution_count": 13,
     "metadata": {},
     "output_type": "execute_result"
    }
   ],
   "source": [
    "# finetuned\n",
    "clf = SGDClassifier(loss='hinge', penalty='l2', epsilon=1., n_jobs=4)\n",
    "clf.fit(X_train, y_train)"
   ]
  },
  {
   "cell_type": "code",
   "execution_count": 14,
   "metadata": {
    "collapsed": false
   },
   "outputs": [
    {
     "name": "stdout",
     "output_type": "stream",
     "text": [
      "Accuracy:\t0.9593\n",
      "Precition:\t0.9416\n",
      "Recall:\t\t0.9793\n",
      "F1-score:\t0.9601\n"
     ]
    }
   ],
   "source": [
    "y_pred = clf.predict(X_val)\n",
    "\n",
    "print('Accuracy:\\t%.4f' % accuracy_score(y_val, y_pred))\n",
    "print('Precition:\\t%.4f' % precision_score(y_val, y_pred))\n",
    "print('Recall:\\t\\t%.4f' % recall_score(y_val, y_pred))\n",
    "print('F1-score:\\t%.4f' % f1_score(y_val, y_pred))"
   ]
  },
  {
   "cell_type": "code",
   "execution_count": 21,
   "metadata": {
    "collapsed": true
   },
   "outputs": [],
   "source": [
    "y_pred = pd.DataFrame(clf.predict(X_test), columns=['label'], index=X_test.index)\n",
    "y_pred[y_pred['label'] == 0] = 'cat'\n",
    "y_pred[y_pred['label'] == 1] = 'dog'\n",
    "y_pred.to_csv('overfeat_sgd.csv', index_label='file')"
   ]
  },
  {
   "cell_type": "markdown",
   "metadata": {},
   "source": [
    "-----\n",
    "\n",
    "### Neural Network"
   ]
  },
  {
   "cell_type": "code",
   "execution_count": 15,
   "metadata": {
    "collapsed": true
   },
   "outputs": [],
   "source": [
    "import lasagne\n",
    "import theano\n",
    "import theano.tensor as T\n",
    "\n",
    "from lasagne.layers import InputLayer\n",
    "from lasagne.layers import DenseLayer\n",
    "from lasagne.layers import NonlinearityLayer\n",
    "from lasagne.layers import BatchNormLayer\n",
    "from lasagne.layers import DropoutLayer\n",
    "from lasagne.nonlinearities import softmax, sigmoid\n",
    "\n",
    "# finetuned\n",
    "def build_model():\n",
    "    net = {}\n",
    "    net['input'] = InputLayer((None, 4096))\n",
    "    net['fc1'] = DenseLayer(net['input'], num_units=512, nonlinearity=None)\n",
    "    net['bn1'] = BatchNormLayer(net['fc1'])\n",
    "    net['nl1'] = NonlinearityLayer(net['bn1'], sigmoid)\n",
    "    net['fc1_dropout'] = DropoutLayer(net['nl1'], p=0.5)\n",
    "    net['fc2'] = DenseLayer(net['fc1_dropout'], num_units=64, nonlinearity=None)\n",
    "    net['bn2'] = BatchNormLayer(net['fc2'])\n",
    "    net['nl2'] = NonlinearityLayer(net['bn2'], sigmoid)\n",
    "    net['fc2_dropout'] = DropoutLayer(net['nl2'], p=0.5)\n",
    "    net['fc3'] = DenseLayer(net['fc2_dropout'], num_units=2, nonlinearity=None)\n",
    "    net['prob'] = NonlinearityLayer(net['fc3'], softmax)\n",
    "\n",
    "    return net\n",
    "\n",
    "# batch generator\n",
    "def get_batches(dataset, batch_size):\n",
    "    X, Y = dataset\n",
    "    n_samples = X.shape[0]\n",
    "        \n",
    "    # Shuffle at the start of epoch\n",
    "    indices = np.arange(n_samples)\n",
    "    np.random.shuffle(indices)\n",
    "    \n",
    "    for start in range(0, n_samples, batch_size):\n",
    "        end = min(start + batch_size, n_samples)\n",
    "        \n",
    "        batch_idx = indices[start:end]\n",
    "    \n",
    "        yield X.loc[X.index[batch_idx]], Y[batch_idx]"
   ]
  },
  {
   "cell_type": "code",
   "execution_count": 16,
   "metadata": {
    "collapsed": true
   },
   "outputs": [],
   "source": [
    "input_var = T.matrix('inputs')\n",
    "target_var = T.ivector('targets')\n",
    "learning_rate = T.scalar(name='learning_rate')\n",
    "\n",
    "net = build_model()\n",
    "\n",
    "prediction = lasagne.layers.get_output(net['prob'], input_var)\n",
    "loss = lasagne.objectives.categorical_crossentropy(prediction, target_var).mean()\n",
    "\n",
    "params = lasagne.layers.get_all_params(net['prob'], trainable=True)\n",
    "updates = lasagne.updates.adam(loss, params, learning_rate=learning_rate)"
   ]
  },
  {
   "cell_type": "code",
   "execution_count": 17,
   "metadata": {
    "collapsed": true
   },
   "outputs": [],
   "source": [
    "test_prediction = lasagne.layers.get_output(net['prob'], input_var, deterministic=True)\n",
    "test_loss = lasagne.objectives.categorical_crossentropy(test_prediction, target_var).mean()\n",
    "\n",
    "test_acc = T.mean(T.eq(T.argmax(test_prediction, axis=1), target_var),dtype=theano.config.floatX)"
   ]
  },
  {
   "cell_type": "code",
   "execution_count": 18,
   "metadata": {
    "collapsed": true
   },
   "outputs": [],
   "source": [
    "train_fn = theano.function([input_var, target_var, learning_rate], loss, updates=updates, allow_input_downcast=True)\n",
    "val_fn = theano.function([input_var, target_var], [test_loss, test_acc], allow_input_downcast=True)\n",
    "predict = theano.function([input_var], test_prediction, allow_input_downcast=True)"
   ]
  },
  {
   "cell_type": "code",
   "execution_count": 22,
   "metadata": {
    "collapsed": false
   },
   "outputs": [
    {
     "name": "stdout",
     "output_type": "stream",
     "text": [
      "......................\n",
      "Epoch 1 of 30 took 13.113s\n",
      "  loss:\t\t\t0.306904,0.198864\n",
      "  validation accuracy:\t\t95.20 %\n",
      "......................\n",
      "Epoch 2 of 30 took 13.490s\n",
      "  loss:\t\t\t0.281077,0.191247\n",
      "  validation accuracy:\t\t95.27 %\n",
      "......................\n",
      "Epoch 3 of 30 took 12.822s\n",
      "  loss:\t\t\t0.265656,0.174888\n",
      "  validation accuracy:\t\t96.40 %\n",
      "......................\n",
      "Epoch 4 of 30 took 14.179s\n",
      "  loss:\t\t\t0.254754,0.171000\n",
      "  validation accuracy:\t\t96.30 %\n",
      "......................\n",
      "Epoch 5 of 30 took 15.692s\n",
      "  loss:\t\t\t0.243652,0.163958\n",
      "  validation accuracy:\t\t96.50 %\n",
      "......................\n",
      "Epoch 6 of 30 took 15.107s\n",
      "  loss:\t\t\t0.239188,0.160070\n",
      "  validation accuracy:\t\t96.57 %\n",
      "......................\n",
      "Epoch 7 of 30 took 18.591s\n",
      "  loss:\t\t\t0.225252,0.157616\n",
      "  validation accuracy:\t\t96.57 %\n",
      "......................\n",
      "Epoch 8 of 30 took 16.594s\n",
      "  loss:\t\t\t0.221901,0.154929\n",
      "  validation accuracy:\t\t96.67 %\n",
      "......................\n",
      "Epoch 9 of 30 took 15.271s\n",
      "  loss:\t\t\t0.215861,0.150613\n",
      "  validation accuracy:\t\t96.70 %\n",
      "......................\n",
      "Epoch 10 of 30 took 12.949s\n",
      "  loss:\t\t\t0.212512,0.149760\n",
      "  validation accuracy:\t\t96.70 %\n",
      "......................\n",
      "Epoch 11 of 30 took 14.545s\n",
      "  loss:\t\t\t0.208334,0.147651\n",
      "  validation accuracy:\t\t96.70 %\n",
      "......................\n",
      "Epoch 12 of 30 took 13.390s\n",
      "  loss:\t\t\t0.204400,0.144632\n",
      "  validation accuracy:\t\t96.77 %\n",
      "......................\n",
      "Epoch 13 of 30 took 15.792s\n",
      "  loss:\t\t\t0.201923,0.143337\n",
      "  validation accuracy:\t\t96.77 %\n",
      "......................\n",
      "Epoch 14 of 30 took 17.506s\n",
      "  loss:\t\t\t0.196529,0.141478\n",
      "  validation accuracy:\t\t96.70 %\n",
      "......................\n",
      "Epoch 15 of 30 took 16.109s\n",
      "  loss:\t\t\t0.197081,0.139720\n",
      "  validation accuracy:\t\t96.83 %\n",
      "......................\n",
      "Epoch 16 of 30 took 14.295s\n",
      "  loss:\t\t\t0.193347,0.139545\n",
      "  validation accuracy:\t\t96.73 %\n",
      "......................\n",
      "Epoch 17 of 30 took 18.024s\n",
      "  loss:\t\t\t0.188016,0.136704\n",
      "  validation accuracy:\t\t96.80 %\n",
      "......................\n",
      "Epoch 18 of 30 took 15.155s\n",
      "  loss:\t\t\t0.186348,0.136097\n",
      "  validation accuracy:\t\t96.53 %\n",
      "......................\n",
      "Epoch 19 of 30 took 14.810s\n",
      "  loss:\t\t\t0.187625,0.134582\n",
      "  validation accuracy:\t\t96.73 %\n",
      "......................\n",
      "Epoch 20 of 30 took 14.710s\n",
      "  loss:\t\t\t0.182460,0.131828\n",
      "  validation accuracy:\t\t96.67 %\n",
      "......................\n",
      "Epoch 21 of 30 took 14.684s\n",
      "  loss:\t\t\t0.180121,0.130562\n",
      "  validation accuracy:\t\t96.80 %\n",
      "......................\n",
      "Epoch 22 of 30 took 13.854s\n",
      "  loss:\t\t\t0.177716,0.129158\n",
      "  validation accuracy:\t\t96.73 %\n",
      "......................\n",
      "Epoch 23 of 30 took 13.584s\n",
      "  loss:\t\t\t0.177199,0.128527\n",
      "  validation accuracy:\t\t96.83 %\n",
      "......................\n",
      "Epoch 24 of 30 took 13.179s\n",
      "  loss:\t\t\t0.173910,0.127452\n",
      "  validation accuracy:\t\t96.87 %\n",
      "......................\n",
      "Epoch 25 of 30 took 14.057s\n",
      "  loss:\t\t\t0.170861,0.125702\n",
      "  validation accuracy:\t\t96.77 %\n",
      "......................\n",
      "Epoch 26 of 30 took 13.240s\n",
      "  loss:\t\t\t0.170710,0.124850\n",
      "  validation accuracy:\t\t96.70 %\n",
      "......................\n",
      "Epoch 27 of 30 took 13.078s\n",
      "  loss:\t\t\t0.168943,0.122576\n",
      "  validation accuracy:\t\t96.77 %\n",
      "......................\n",
      "Epoch 28 of 30 took 16.370s\n",
      "  loss:\t\t\t0.170928,0.121719\n",
      "  validation accuracy:\t\t96.80 %\n",
      "......................\n",
      "Epoch 29 of 30 took 15.628s\n",
      "  loss:\t\t\t0.164939,0.124373\n",
      "  validation accuracy:\t\t96.67 %\n",
      "......................\n",
      "Epoch 30 of 30 took 12.398s\n",
      "  loss:\t\t\t0.162727,0.119308\n",
      "  validation accuracy:\t\t96.77 %\n"
     ]
    }
   ],
   "source": [
    "num_epochs = 30\n",
    "lr = 1e-4\n",
    "for epoch in range(num_epochs):\n",
    "    # In each epoch, we do a full pass over the training data:\n",
    "    train_err = 0\n",
    "    train_batches = 0\n",
    "    start_time = time.time()\n",
    "    for batch in get_batches((X_train, y_train), 1000):\n",
    "        inputs, targets = batch\n",
    "        train_err += train_fn(inputs, targets, lr)\n",
    "        train_batches += 1\n",
    "        sys.stdout.flush()\n",
    "    \n",
    "    # And a full pass over the validation data:\n",
    "    val_err = 0\n",
    "    val_acc = 0\n",
    "    val_batches = 0\n",
    "    for batch in get_batches((X_val, y_val), 500):\n",
    "        inputs, targets = batch\n",
    "        err, acc = val_fn(inputs, targets)\n",
    "        val_err += err\n",
    "        val_acc += acc\n",
    "        val_batches += 1\n",
    "\n",
    "#     # Then we print the results for this epoch:\n",
    "#     if epoch % 5 == 0: \n",
    "    print(\"\\nEpoch {} of {} took {:.3f}s\".format(\n",
    "        epoch + 1, num_epochs, time.time() - start_time))\n",
    "    print(\"  loss:\\t\\t\\t{:.6f},{:.6f}\".format(train_err / train_batches, val_err / val_batches))\n",
    "    print(\"  validation accuracy:\\t\\t{:.2f} %\".format(\n",
    "        val_acc / val_batches * 100))\n",
    "    sys.stdout.flush()"
   ]
  },
  {
   "cell_type": "code",
   "execution_count": 23,
   "metadata": {
    "collapsed": false
   },
   "outputs": [
    {
     "name": "stdout",
     "output_type": "stream",
     "text": [
      "Train: 0.9729 0.9772 0.9685 0.9728\n",
      "Valid: 0.9677 0.9717 0.9633 0.9675\n"
     ]
    }
   ],
   "source": [
    "y_true, y_pred = [], []\n",
    "for batch in get_batches((X_train, y_train), 500):\n",
    "    inputs, targets = batch\n",
    "    y_pred.extend((predict(inputs)[:,1] > 0.5).astype(int))\n",
    "    y_true.extend(targets)\n",
    "print('Train: %.4f %.4f %.4f %.4f' %\\\n",
    "      (accuracy_score(y_true, y_pred),\\\n",
    "       precision_score(y_true, y_pred),\\\n",
    "       recall_score(y_true, y_pred),\\\n",
    "       f1_score(y_true, y_pred)))\n",
    "\n",
    "y_true, y_pred = [], []\n",
    "for batch in get_batches((X_val, y_val), 500):\n",
    "    inputs, targets = batch\n",
    "    y_pred.extend((predict(inputs)[:,1] > 0.5).astype(int))\n",
    "    y_true.extend(targets)\n",
    "    \n",
    "print('Valid: %.4f %.4f %.4f %.4f' %\\\n",
    "      (accuracy_score(y_true, y_pred),\\\n",
    "       precision_score(y_true, y_pred),\\\n",
    "       recall_score(y_true, y_pred),\\\n",
    "       f1_score(y_true, y_pred)))"
   ]
  },
  {
   "cell_type": "code",
   "execution_count": null,
   "metadata": {
    "collapsed": true
   },
   "outputs": [],
   "source": [
    "y_pred = pd.DataFrame(predict(X_test)[:,1] > 0.5, columns=['label'], index=X_test.index)\n",
    "y_pred[y_pred['label'] == False] = 'cat'\n",
    "y_pred[y_pred['label'] == True] = 'dog'\n",
    "y_pred.to_csv('overfeat_nn.csv', index_label='file')"
   ]
  },
  {
   "cell_type": "markdown",
   "metadata": {},
   "source": [
    "-----\n",
    "\n",
    "### XGBoost"
   ]
  },
  {
   "cell_type": "code",
   "execution_count": 4,
   "metadata": {
    "collapsed": false
   },
   "outputs": [
    {
     "data": {
      "text/plain": [
       "XGBClassifier(base_score=0.5, colsample_bytree=0.8, gamma=0,\n",
       "       learning_rate=0.1, max_delta_step=0, max_depth=5,\n",
       "       min_child_weight=1, n_estimators=175, nthread=-1,\n",
       "       objective='binary:logistic', seed=0, silent=True, subsample=0.8)"
      ]
     },
     "execution_count": 4,
     "metadata": {},
     "output_type": "execute_result"
    }
   ],
   "source": [
    "# finetuned\n",
    "clf = xgboost.XGBClassifier(\n",
    "        max_depth=5, \n",
    "        subsample=0.8,\n",
    "        colsample_bytree = 0.8,\n",
    "        n_estimators=175,\n",
    "        objective='binary:logistic')\n",
    "clf.fit(X_train, y_train)"
   ]
  },
  {
   "cell_type": "code",
   "execution_count": 5,
   "metadata": {
    "collapsed": false
   },
   "outputs": [
    {
     "name": "stdout",
     "output_type": "stream",
     "text": [
      "Accuracy:\t0.9663\n",
      "Precition:\t0.9695\n",
      "Recall:\t\t0.9638\n",
      "F1-score:\t0.9667\n"
     ]
    }
   ],
   "source": [
    "y_pred = clf.predict(X_val)\n",
    "\n",
    "print('Accuracy:\\t%.4f' % accuracy_score(y_val, y_pred))\n",
    "print('Precition:\\t%.4f' % precision_score(y_val, y_pred))\n",
    "print('Recall:\\t\\t%.4f' % recall_score(y_val, y_pred))\n",
    "print('F1-score:\\t%.4f' % f1_score(y_val, y_pred))"
   ]
  },
  {
   "cell_type": "code",
   "execution_count": 11,
   "metadata": {
    "collapsed": true
   },
   "outputs": [],
   "source": [
    "y_pred = pd.DataFrame(clf.predict(X_test), columns=['label'], index=X_test.index)\n",
    "y_pred[y_pred['label'] == 0] = 'cat'\n",
    "y_pred[y_pred['label'] == 1] = 'dog'\n",
    "y_pred.to_csv('overfeat_xgbst.csv', index_label='file')"
   ]
  }
 ],
 "metadata": {
  "anaconda-cloud": {},
  "kernelspec": {
   "display_name": "Python [conda root]",
   "language": "python",
   "name": "conda-root-py"
  },
  "language_info": {
   "codemirror_mode": {
    "name": "ipython",
    "version": 2
   },
   "file_extension": ".py",
   "mimetype": "text/x-python",
   "name": "python",
   "nbconvert_exporter": "python",
   "pygments_lexer": "ipython2",
   "version": "2.7.12"
  }
 },
 "nbformat": 4,
 "nbformat_minor": 1
}
