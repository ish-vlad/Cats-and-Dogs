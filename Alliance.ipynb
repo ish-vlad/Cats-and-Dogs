{
 "cells": [
  {
   "cell_type": "code",
   "execution_count": 3,
   "metadata": {
    "collapsed": false
   },
   "outputs": [],
   "source": [
    "import pandas as pd\n",
    "import numpy as np\n",
    "from sklearn.cross_validation import train_test_split\n",
    "from sklearn.ensemble import RandomForestClassifier\n",
    "from sklearn.linear_model import SGDClassifier\n",
    "from sklearn.metrics import roc_auc_score, accuracy_score, auc, f1_score, precision_score, recall_score\n",
    "\n",
    "import matplotlib.pyplot as plt\n",
    "%matplotlib inline"
   ]
  },
  {
   "cell_type": "code",
   "execution_count": 4,
   "metadata": {
    "collapsed": false
   },
   "outputs": [],
   "source": [
    "X_resnet = pd.read_csv('data/train/resnet_train_features.csv', header=None, index_col=0)\n",
    "X_overfeat = pd.read_csv('data/train/overfeat_train_features.csv', header=None, index_col=0)\n",
    "X_vgg = pd.read_csv('data/train/vgg_train_features.csv', header=None, index_col=0)\n",
    "\n",
    "X = X_resnet.join(X_overfeat, lsuffix='_resnet', rsuffix='_overfeat').join(X_vgg, rsuffix='_vgg')\n",
    "y = np.array([0 if x.startswith('cat') else 1 for x in X.index])\n",
    "del X_resnet, X_overfeat, X_vgg"
   ]
  },
  {
   "cell_type": "code",
   "execution_count": 5,
   "metadata": {
    "collapsed": true
   },
   "outputs": [],
   "source": [
    "X_test_resnet = pd.read_csv('data/test/resnet_test_features.csv', header=None, index_col=0)\n",
    "X_test_overfeat = pd.read_csv('data/test/overfeat_test_features.csv', header=None, index_col=0)\n",
    "X_test_vgg = pd.read_csv('data/test/vgg_test_features.csv', header=None, index_col=0)\n",
    "\n",
    "X_test = X_test_resnet.join(X_test_overfeat, lsuffix='_resnet', rsuffix='_overfeat').join(X_test_vgg, rsuffix='_vgg')\n",
    "del X_test_resnet, X_test_overfeat, X_test_vgg"
   ]
  },
  {
   "cell_type": "code",
   "execution_count": 6,
   "metadata": {
    "collapsed": false
   },
   "outputs": [
    {
     "data": {
      "text/plain": [
       "((22000, 9192), (22000,))"
      ]
     },
     "execution_count": 6,
     "metadata": {},
     "output_type": "execute_result"
    }
   ],
   "source": [
    "X_train, X_val, y_train, y_val = train_test_split(X, y, test_size=3000)\n",
    "X_train.shape, y_train.shape"
   ]
  },
  {
   "cell_type": "markdown",
   "metadata": {},
   "source": [
    "## Random Forest"
   ]
  },
  {
   "cell_type": "code",
   "execution_count": 7,
   "metadata": {
    "collapsed": false
   },
   "outputs": [
    {
     "name": "stderr",
     "output_type": "stream",
     "text": [
      "[Parallel(n_jobs=4)]: Done  42 tasks      | elapsed:   11.6s\n",
      "[Parallel(n_jobs=4)]: Done 120 out of 120 | elapsed:   31.5s finished\n"
     ]
    },
    {
     "data": {
      "text/plain": [
       "RandomForestClassifier(bootstrap=True, class_weight=None, criterion='gini',\n",
       "            max_depth=12, max_features='auto', max_leaf_nodes=None,\n",
       "            min_impurity_split=1e-07, min_samples_leaf=1,\n",
       "            min_samples_split=2, min_weight_fraction_leaf=0.0,\n",
       "            n_estimators=120, n_jobs=4, oob_score=False, random_state=None,\n",
       "            verbose=1, warm_start=True)"
      ]
     },
     "execution_count": 7,
     "metadata": {},
     "output_type": "execute_result"
    }
   ],
   "source": [
    "clf = RandomForestClassifier(\n",
    "    n_estimators=120,\n",
    "    max_depth=12,\n",
    "    warm_start=True,\n",
    "    n_jobs=4, verbose=1)\n",
    "clf.fit(X_train, y_train)"
   ]
  },
  {
   "cell_type": "code",
   "execution_count": 8,
   "metadata": {
    "collapsed": false
   },
   "outputs": [
    {
     "name": "stderr",
     "output_type": "stream",
     "text": [
      "[Parallel(n_jobs=4)]: Done  42 tasks      | elapsed:    0.1s\n",
      "[Parallel(n_jobs=4)]: Done 120 out of 120 | elapsed:    0.1s finished\n"
     ]
    },
    {
     "name": "stdout",
     "output_type": "stream",
     "text": [
      "Accuracy:\t0.9977\n",
      "Precition:\t0.9973\n",
      "Recall:\t\t0.9979\n",
      "F1-score:\t0.9976\n"
     ]
    }
   ],
   "source": [
    "y_pred = clf.predict(X_val)\n",
    "\n",
    "print('Accuracy:\\t%.4f' % accuracy_score(y_val, y_pred))\n",
    "print('Precition:\\t%.4f' % precision_score(y_val, y_pred))\n",
    "print('Recall:\\t\\t%.4f' % recall_score(y_val, y_pred))\n",
    "print('F1-score:\\t%.4f' % f1_score(y_val, y_pred))"
   ]
  },
  {
   "cell_type": "code",
   "execution_count": 24,
   "metadata": {
    "collapsed": false
   },
   "outputs": [
    {
     "data": {
      "image/png": "[encoded data removed]",
      "text/plain": [
       "<matplotlib.figure.Figure at 0x7f5b3aea65d0>"
      ]
     },
     "metadata": {},
     "output_type": "display_data"
    }
   ],
   "source": [
    "feature_imps = [\n",
    "    clf.feature_importances_[:1000], \n",
    "    clf.feature_importances_[1000:5096], \n",
    "    clf.feature_importances_[5096:]\n",
    "]\n",
    "\n",
    "plt.figure(figsize=(10,4))\n",
    "plt.subplot(1,2,1)\n",
    "plt.title('Mean of feature inportances')\n",
    "plt.bar((0,1,2), [np.mean(x) for x in feature_imps])\n",
    "plt.xticks((0,1,2), ('ResNet', 'OverFeat', 'VGG'))\n",
    "\n",
    "plt.subplot(1,2,2)\n",
    "plt.title('Sum of feature inportances')\n",
    "plt.bar((0,1,2), [np.sum(x) for x in feature_imps])\n",
    "plt.xticks((0,1,2), ('ResNet', 'OverFeat', 'VGG'))\n",
    "plt.tight_layout()"
   ]
  },
  {
   "cell_type": "code",
   "execution_count": 23,
   "metadata": {
    "collapsed": false
   },
   "outputs": [
    {
     "name": "stderr",
     "output_type": "stream",
     "text": [
      "[Parallel(n_jobs=2)]: Done  37 tasks      | elapsed:    0.0s\n",
      "[Parallel(n_jobs=2)]: Done 120 out of 120 | elapsed:    0.1s finished\n"
     ]
    }
   ],
   "source": [
    "y_pred = pd.DataFrame(clf.predict(X_test), columns=['label'], index=X_test.index)\n",
    "y_pred[y_pred['label'] == 0] = 'cat'\n",
    "y_pred[y_pred['label'] == 1] = 'dog'\n",
    "y_pred.to_csv('agg_rf.csv', index_label='file')"
   ]
  },
  {
   "cell_type": "markdown",
   "metadata": {},
   "source": [
    "## SGD"
   ]
  },
  {
   "cell_type": "code",
   "execution_count": 27,
   "metadata": {
    "collapsed": false
   },
   "outputs": [
    {
     "data": {
      "text/plain": [
       "SGDClassifier(alpha=0.0001, average=False, class_weight=None, epsilon=1.0,\n",
       "       eta0=0.0, fit_intercept=True, l1_ratio=0.15,\n",
       "       learning_rate='optimal', loss='hinge', n_iter=5, n_jobs=4,\n",
       "       penalty='l1', power_t=0.5, random_state=None, shuffle=True,\n",
       "       verbose=0, warm_start=False)"
      ]
     },
     "execution_count": 27,
     "metadata": {},
     "output_type": "execute_result"
    }
   ],
   "source": [
    "# finetuned\n",
    "clf = SGDClassifier(loss='hinge', penalty='l1', epsilon=1., n_jobs=4)\n",
    "clf.fit(X_train, y_train)"
   ]
  },
  {
   "cell_type": "code",
   "execution_count": 28,
   "metadata": {
    "collapsed": false
   },
   "outputs": [
    {
     "name": "stdout",
     "output_type": "stream",
     "text": [
      "Accuracy:\t0.9963\n",
      "Precition:\t0.9966\n",
      "Recall:\t\t0.9959\n",
      "F1-score:\t0.9962\n"
     ]
    }
   ],
   "source": [
    "y_pred = clf.predict(X_val)\n",
    "\n",
    "print('Accuracy:\\t%.4f' % accuracy_score(y_val, y_pred))\n",
    "print('Precition:\\t%.4f' % precision_score(y_val, y_pred))\n",
    "print('Recall:\\t\\t%.4f' % recall_score(y_val, y_pred))\n",
    "print('F1-score:\\t%.4f' % f1_score(y_val, y_pred))"
   ]
  },
  {
   "cell_type": "code",
   "execution_count": 10,
   "metadata": {
    "collapsed": true
   },
   "outputs": [],
   "source": [
    "y_pred = pd.DataFrame(clf.predict(X_test), columns=['label'], index=X_test.index)\n",
    "y_pred[y_pred['label'] == 0] = 'cat'\n",
    "y_pred[y_pred['label'] == 1] = 'dog'\n",
    "y_pred.to_csv('agg_sgd.csv', index_label='file')"
   ]
  },
  {
   "cell_type": "markdown",
   "metadata": {},
   "source": [
    "## Neural Network"
   ]
  },
  {
   "cell_type": "code",
   "execution_count": 7,
   "metadata": {
    "collapsed": true
   },
   "outputs": [],
   "source": [
    "import lasagne\n",
    "import theano\n",
    "import theano.tensor as T\n",
    "\n",
    "from lasagne.layers import InputLayer\n",
    "from lasagne.layers import DenseLayer\n",
    "from lasagne.layers import NonlinearityLayer\n",
    "from lasagne.layers import BatchNormLayer\n",
    "from lasagne.layers import DropoutLayer\n",
    "from lasagne.nonlinearities import softmax, sigmoid\n",
    "\n",
    "# finetuned\n",
    "def build_model():\n",
    "    net = {}\n",
    "    net['input'] = InputLayer((None, 9192))\n",
    "    net['fc1'] = DenseLayer(net['input'], num_units=512, nonlinearity=None)\n",
    "    net['bn1'] = BatchNormLayer(net['fc1'])\n",
    "    net['nl1'] = NonlinearityLayer(net['bn1'], sigmoid)\n",
    "    net['fc1_dropout'] = DropoutLayer(net['nl1'], p=0.5)\n",
    "    net['fc2'] = DenseLayer(net['fc1_dropout'], num_units=32, nonlinearity=None)\n",
    "    net['bn2'] = BatchNormLayer(net['fc2'])\n",
    "    net['nl2'] = NonlinearityLayer(net['bn2'], sigmoid)\n",
    "    net['fc2_dropout'] = DropoutLayer(net['nl2'], p=0.5)\n",
    "    net['fc3'] = DenseLayer(net['fc2_dropout'], num_units=2, nonlinearity=None)\n",
    "    net['prob'] = NonlinearityLayer(net['fc3'], softmax)\n",
    "\n",
    "    return net\n",
    "\n",
    "# batch generator\n",
    "def get_batches(dataset, batch_size):\n",
    "    X, Y = dataset\n",
    "    n_samples = X.shape[0]\n",
    "        \n",
    "    # Shuffle at the start of epoch\n",
    "    indices = np.arange(n_samples)\n",
    "    np.random.shuffle(indices)\n",
    "    \n",
    "    for start in range(0, n_samples, batch_size):\n",
    "        end = min(start + batch_size, n_samples)\n",
    "        \n",
    "        batch_idx = indices[start:end]\n",
    "    \n",
    "        yield X.loc[X.index[batch_idx]], Y[batch_idx]"
   ]
  },
  {
   "cell_type": "code",
   "execution_count": 8,
   "metadata": {
    "collapsed": true
   },
   "outputs": [],
   "source": [
    "input_var = T.matrix('inputs')\n",
    "target_var = T.ivector('targets')\n",
    "learning_rate = T.scalar(name='learning_rate')\n",
    "\n",
    "net = build_model()\n",
    "\n",
    "prediction = lasagne.layers.get_output(net['prob'], input_var)\n",
    "loss = lasagne.objectives.categorical_crossentropy(prediction, target_var).mean()\n",
    "\n",
    "params = lasagne.layers.get_all_params(net['prob'], trainable=True)\n",
    "updates = lasagne.updates.adam(loss, params, learning_rate=learning_rate)"
   ]
  },
  {
   "cell_type": "code",
   "execution_count": 9,
   "metadata": {
    "collapsed": true
   },
   "outputs": [],
   "source": [
    "test_prediction = lasagne.layers.get_output(net['prob'], input_var, deterministic=True)\n",
    "test_loss = lasagne.objectives.categorical_crossentropy(test_prediction, target_var).mean()\n",
    "\n",
    "test_acc = T.mean(T.eq(T.argmax(test_prediction, axis=1), target_var),dtype=theano.config.floatX)"
   ]
  },
  {
   "cell_type": "code",
   "execution_count": 10,
   "metadata": {
    "collapsed": true
   },
   "outputs": [],
   "source": [
    "train_fn = theano.function([input_var, target_var, learning_rate], loss, updates=updates, allow_input_downcast=True)\n",
    "val_fn = theano.function([input_var, target_var], [test_loss, test_acc], allow_input_downcast=True)\n",
    "predict = theano.function([input_var], test_prediction, allow_input_downcast=True)"
   ]
  },
  {
   "cell_type": "code",
   "execution_count": 14,
   "metadata": {
    "collapsed": false
   },
   "outputs": [
    {
     "name": "stdout",
     "output_type": "stream",
     "text": [
      ". . . . \n",
      "Epoch 1 of 10 took 23.008s\n",
      "  loss:\t\t\t0.203556,0.132338\n",
      "  validation accuracy:\t\t99.73 %\n",
      ". . . . \n",
      "Epoch 2 of 10 took 22.347s\n",
      "  loss:\t\t\t0.203587,0.132511\n",
      "  validation accuracy:\t\t99.73 %\n",
      ". . . . \n",
      "Epoch 3 of 10 took 20.545s\n",
      "  loss:\t\t\t0.204067,0.132619\n",
      "  validation accuracy:\t\t99.73 %\n",
      ". . . . \n",
      "Epoch 4 of 10 took 20.074s\n",
      "  loss:\t\t\t0.204315,0.132580\n",
      "  validation accuracy:\t\t99.73 %\n",
      ". . . . \n",
      "Epoch 5 of 10 took 19.804s\n",
      "  loss:\t\t\t0.203943,0.132632\n",
      "  validation accuracy:\t\t99.73 %\n",
      ". . . . \n",
      "Epoch 6 of 10 took 20.344s\n",
      "  loss:\t\t\t0.204714,0.132611\n",
      "  validation accuracy:\t\t99.73 %\n",
      ". . . . \n",
      "Epoch 7 of 10 took 19.762s\n",
      "  loss:\t\t\t0.203925,0.132535\n",
      "  validation accuracy:\t\t99.73 %\n",
      ". . . . \n",
      "Epoch 8 of 10 took 20.779s\n",
      "  loss:\t\t\t0.206117,0.132402\n",
      "  validation accuracy:\t\t99.73 %\n",
      ". . . . \n",
      "Epoch 9 of 10 took 20.840s\n",
      "  loss:\t\t\t0.204838,0.132458\n",
      "  validation accuracy:\t\t99.73 %\n",
      ". . . . \n",
      "Epoch 10 of 10 took 20.168s\n",
      "  loss:\t\t\t0.202131,0.132383\n",
      "  validation accuracy:\t\t99.73 %\n"
     ]
    }
   ],
   "source": [
    "import time \n",
    "import sys\n",
    "num_epochs = 10\n",
    "lr = 1e-5\n",
    "for epoch in range(num_epochs):\n",
    "    # In each epoch, we do a full pass over the training data:\n",
    "    train_err = 0\n",
    "    train_batches = 0\n",
    "    start_time = time.time()\n",
    "    for batch in get_batches((X_train, y_train), 5500):\n",
    "        inputs, targets = batch\n",
    "        train_err += train_fn(inputs, targets, lr)\n",
    "        train_batches += 1\n",
    "        print '.', \n",
    "        sys.stdout.flush()\n",
    "    \n",
    "    # And a full pass over the validation data:\n",
    "    val_err = 0\n",
    "    val_acc = 0\n",
    "    val_batches = 0\n",
    "    for batch in get_batches((X_val, y_val), 500):\n",
    "        inputs, targets = batch\n",
    "        err, acc = val_fn(inputs, targets)\n",
    "        val_err += err\n",
    "        val_acc += acc\n",
    "        val_batches += 1\n",
    "\n",
    "#     # Then we print the results for this epoch:\n",
    "#     if epoch % 5 == 0: \n",
    "    print(\"\\nEpoch {} of {} took {:.3f}s\".format(\n",
    "        epoch + 1, num_epochs, time.time() - start_time))\n",
    "    print(\"  loss:\\t\\t\\t{:.6f},{:.6f}\".format(train_err / train_batches, val_err / val_batches))\n",
    "    print(\"  validation accuracy:\\t\\t{:.2f} %\".format(\n",
    "        val_acc / val_batches * 100))\n",
    "    sys.stdout.flush()"
   ]
  },
  {
   "cell_type": "code",
   "execution_count": 15,
   "metadata": {
    "collapsed": false
   },
   "outputs": [
    {
     "name": "stdout",
     "output_type": "stream",
     "text": [
      "Train: 0.9970 0.9967 0.9975 0.9971\n",
      "Valid: 0.9973 0.9952 0.9993 0.9973\n"
     ]
    }
   ],
   "source": [
    "y_true, y_pred = [], []\n",
    "for batch in get_batches((X_train, y_train), 500):\n",
    "    inputs, targets = batch\n",
    "    y_pred.extend((predict(inputs)[:,1] > 0.5).astype(int))\n",
    "    y_true.extend(targets)\n",
    "print('Train: %.4f %.4f %.4f %.4f' %\\\n",
    "      (accuracy_score(y_true, y_pred),\\\n",
    "       precision_score(y_true, y_pred),\\\n",
    "       recall_score(y_true, y_pred),\\\n",
    "       f1_score(y_true, y_pred)))\n",
    "\n",
    "y_true, y_pred = [], []\n",
    "for batch in get_batches((X_val, y_val), 500):\n",
    "    inputs, targets = batch\n",
    "    y_pred.extend((predict(inputs)[:,1] > 0.5).astype(int))\n",
    "    y_true.extend(targets)\n",
    "    \n",
    "print('Valid: %.4f %.4f %.4f %.4f' %\\\n",
    "      (accuracy_score(y_true, y_pred),\\\n",
    "       precision_score(y_true, y_pred),\\\n",
    "       recall_score(y_true, y_pred),\\\n",
    "       f1_score(y_true, y_pred)))"
   ]
  },
  {
   "cell_type": "code",
   "execution_count": 16,
   "metadata": {
    "collapsed": true
   },
   "outputs": [],
   "source": [
    "y_pred = pd.DataFrame(predict(X_test)[:,1] > 0.5, columns=['label'], index=X_test.index)\n",
    "y_pred[y_pred['label'] == False] = 'cat'\n",
    "y_pred[y_pred['label'] == True] = 'dog'\n",
    "y_pred.to_csv('agg_nn.csv', index_label='file')"
   ]
  },
  {
   "cell_type": "markdown",
   "metadata": {},
   "source": [
    "### XGBoost"
   ]
  },
  {
   "cell_type": "code",
   "execution_count": 5,
   "metadata": {
    "collapsed": false
   },
   "outputs": [
    {
     "data": {
      "text/plain": [
       "XGBClassifier(base_score=0.5, colsample_bylevel=1, colsample_bytree=0.3,\n",
       "       gamma=0, learning_rate=0.1, max_delta_step=0, max_depth=5,\n",
       "       min_child_weight=1, missing=None, n_estimators=250, nthread=2,\n",
       "       objective='binary:logistic', reg_alpha=0, reg_lambda=1,\n",
       "       scale_pos_weight=1, seed=0, silent=True, subsample=0.5)"
      ]
     },
     "execution_count": 5,
     "metadata": {},
     "output_type": "execute_result"
    }
   ],
   "source": [
    "import xgboost\n",
    "\n",
    "# finetuned\n",
    "clf = xgboost.XGBClassifier(\n",
    "        max_depth=5, \n",
    "        subsample=0.5,\n",
    "        colsample_bytree = 0.3,\n",
    "        n_estimators=250,\n",
    "        objective='binary:logistic', nthread=2)\n",
    "clf.fit(X_train, y_train)"
   ]
  },
  {
   "cell_type": "code",
   "execution_count": 6,
   "metadata": {
    "collapsed": false
   },
   "outputs": [
    {
     "name": "stdout",
     "output_type": "stream",
     "text": [
      "Accuracy:\t0.9977\n",
      "Precition:\t0.9973\n",
      "Recall:\t\t0.9979\n",
      "F1-score:\t0.9976\n"
     ]
    }
   ],
   "source": [
    "y_pred = clf.predict(X_val)\n",
    "\n",
    "print('Accuracy:\\t%.4f' % accuracy_score(y_val, y_pred))\n",
    "print('Precition:\\t%.4f' % precision_score(y_val, y_pred))\n",
    "print('Recall:\\t\\t%.4f' % recall_score(y_val, y_pred))\n",
    "print('F1-score:\\t%.4f' % f1_score(y_val, y_pred))"
   ]
  },
  {
   "cell_type": "code",
   "execution_count": 20,
   "metadata": {
    "collapsed": true
   },
   "outputs": [],
   "source": [
    "y_pred = pd.DataFrame(clf.predict(X_test), columns=['label'], index=X_test.index)\n",
    "y_pred[y_pred['label'] == 0] = 'cat'\n",
    "y_pred[y_pred['label'] == 1] = 'dog'\n",
    "y_pred.to_csv('agg_xgbst.csv', index_label='file')"
   ]
  }
 ],
 "metadata": {
  "anaconda-cloud": {},
  "kernelspec": {
   "display_name": "Python [default]",
   "language": "python",
   "name": "python2"
  },
  "language_info": {
   "codemirror_mode": {
    "name": "ipython",
    "version": 2
   },
   "file_extension": ".py",
   "mimetype": "text/x-python",
   "name": "python",
   "nbconvert_exporter": "python",
   "pygments_lexer": "ipython2",
   "version": "2.7.12"
  }
 },
 "nbformat": 4,
 "nbformat_minor": 1
}
