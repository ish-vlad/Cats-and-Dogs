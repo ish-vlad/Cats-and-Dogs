{
 "cells": [
  {
   "cell_type": "markdown",
   "metadata": {},
   "source": [
    "### Loading data"
   ]
  },
  {
   "cell_type": "code",
   "execution_count": 2,
   "metadata": {
    "collapsed": false
   },
   "outputs": [],
   "source": [
    "import time \n",
    "import sys\n",
    "import xgboost\n",
    "\n",
    "import pandas as pd\n",
    "import numpy as np\n",
    "import matplotlib.pyplot as plt\n",
    "\n",
    "from sklearn.model_selection import train_test_split\n",
    "from sklearn.ensemble import RandomForestClassifier\n",
    "from sklearn.metrics import accuracy_score, f1_score, precision_score, recall_score\n",
    "from sklearn.linear_model import SGDClassifier\n",
    "\n",
    "%matplotlib inline"
   ]
  },
  {
   "cell_type": "code",
   "execution_count": 3,
   "metadata": {
    "collapsed": false
   },
   "outputs": [],
   "source": [
    "X = pd.read_csv('data/train/resnet_train_features.csv', header=None, index_col=0)\n",
    "y = np.array([0 if x.startswith('cat') else 1 for x in X.index])\n",
    "X_test = pd.read_csv('data/test/resnet_test_features.csv', header=None, index_col=0)"
   ]
  },
  {
   "cell_type": "code",
   "execution_count": 4,
   "metadata": {
    "collapsed": false
   },
   "outputs": [
    {
     "name": "stdout",
     "output_type": "stream",
     "text": [
      "((22000, 1000), (22000,))\n"
     ]
    },
    {
     "data": {
      "text/html": [
       "<div>\n",
       "<table border=\"1\" class=\"dataframe\">\n",
       "  <thead>\n",
       "    <tr style=\"text-align: right;\">\n",
       "      <th></th>\n",
       "      <th>1</th>\n",
       "      <th>2</th>\n",
       "      <th>3</th>\n",
       "      <th>4</th>\n",
       "      <th>5</th>\n",
       "      <th>6</th>\n",
       "      <th>7</th>\n",
       "      <th>8</th>\n",
       "      <th>9</th>\n",
       "      <th>10</th>\n",
       "      <th>...</th>\n",
       "      <th>991</th>\n",
       "      <th>992</th>\n",
       "      <th>993</th>\n",
       "      <th>994</th>\n",
       "      <th>995</th>\n",
       "      <th>996</th>\n",
       "      <th>997</th>\n",
       "      <th>998</th>\n",
       "      <th>999</th>\n",
       "      <th>1000</th>\n",
       "    </tr>\n",
       "    <tr>\n",
       "      <th>0</th>\n",
       "      <th></th>\n",
       "      <th></th>\n",
       "      <th></th>\n",
       "      <th></th>\n",
       "      <th></th>\n",
       "      <th></th>\n",
       "      <th></th>\n",
       "      <th></th>\n",
       "      <th></th>\n",
       "      <th></th>\n",
       "      <th></th>\n",
       "      <th></th>\n",
       "      <th></th>\n",
       "      <th></th>\n",
       "      <th></th>\n",
       "      <th></th>\n",
       "      <th></th>\n",
       "      <th></th>\n",
       "      <th></th>\n",
       "      <th></th>\n",
       "      <th></th>\n",
       "    </tr>\n",
       "  </thead>\n",
       "  <tbody>\n",
       "    <tr>\n",
       "      <th>dog.2763.jpg</th>\n",
       "      <td>0.191800</td>\n",
       "      <td>-0.803395</td>\n",
       "      <td>-0.005326</td>\n",
       "      <td>2.337957</td>\n",
       "      <td>-0.058493</td>\n",
       "      <td>1.314067</td>\n",
       "      <td>-1.855294</td>\n",
       "      <td>-2.254517</td>\n",
       "      <td>-0.655029</td>\n",
       "      <td>-3.587891</td>\n",
       "      <td>...</td>\n",
       "      <td>0.548225</td>\n",
       "      <td>-2.764723</td>\n",
       "      <td>-1.551377</td>\n",
       "      <td>-1.373128</td>\n",
       "      <td>-2.043100</td>\n",
       "      <td>0.280252</td>\n",
       "      <td>-1.631029</td>\n",
       "      <td>-3.677322</td>\n",
       "      <td>2.231984</td>\n",
       "      <td>1.780801</td>\n",
       "    </tr>\n",
       "    <tr>\n",
       "      <th>dog.5375.jpg</th>\n",
       "      <td>1.127481</td>\n",
       "      <td>-0.808255</td>\n",
       "      <td>3.906797</td>\n",
       "      <td>4.054758</td>\n",
       "      <td>3.053132</td>\n",
       "      <td>1.622652</td>\n",
       "      <td>1.651870</td>\n",
       "      <td>1.205274</td>\n",
       "      <td>4.378825</td>\n",
       "      <td>-3.410185</td>\n",
       "      <td>...</td>\n",
       "      <td>0.631116</td>\n",
       "      <td>-0.711681</td>\n",
       "      <td>-2.039704</td>\n",
       "      <td>0.896076</td>\n",
       "      <td>1.786257</td>\n",
       "      <td>-0.120622</td>\n",
       "      <td>0.451443</td>\n",
       "      <td>-3.361825</td>\n",
       "      <td>-0.203670</td>\n",
       "      <td>-1.154845</td>\n",
       "    </tr>\n",
       "    <tr>\n",
       "      <th>dog.1938.jpg</th>\n",
       "      <td>-2.068633</td>\n",
       "      <td>-2.592227</td>\n",
       "      <td>5.452961</td>\n",
       "      <td>2.596817</td>\n",
       "      <td>6.415600</td>\n",
       "      <td>-0.888116</td>\n",
       "      <td>-1.019997</td>\n",
       "      <td>2.542678</td>\n",
       "      <td>4.478345</td>\n",
       "      <td>6.878991</td>\n",
       "      <td>...</td>\n",
       "      <td>-2.416040</td>\n",
       "      <td>-4.809243</td>\n",
       "      <td>-5.907395</td>\n",
       "      <td>-6.705701</td>\n",
       "      <td>-2.842032</td>\n",
       "      <td>0.707400</td>\n",
       "      <td>-2.176455</td>\n",
       "      <td>-5.414921</td>\n",
       "      <td>-2.638503</td>\n",
       "      <td>4.106265</td>\n",
       "    </tr>\n",
       "    <tr>\n",
       "      <th>cat.5596.jpg</th>\n",
       "      <td>-0.210350</td>\n",
       "      <td>-0.497902</td>\n",
       "      <td>-0.775046</td>\n",
       "      <td>-0.399235</td>\n",
       "      <td>-0.792070</td>\n",
       "      <td>2.944323</td>\n",
       "      <td>-0.146743</td>\n",
       "      <td>-1.464098</td>\n",
       "      <td>2.574441</td>\n",
       "      <td>0.004246</td>\n",
       "      <td>...</td>\n",
       "      <td>0.044877</td>\n",
       "      <td>-2.026856</td>\n",
       "      <td>-4.097556</td>\n",
       "      <td>-2.313842</td>\n",
       "      <td>-2.917740</td>\n",
       "      <td>-0.060989</td>\n",
       "      <td>0.616246</td>\n",
       "      <td>-2.454575</td>\n",
       "      <td>1.104608</td>\n",
       "      <td>2.770818</td>\n",
       "    </tr>\n",
       "    <tr>\n",
       "      <th>dog.1699.jpg</th>\n",
       "      <td>2.866545</td>\n",
       "      <td>-0.830160</td>\n",
       "      <td>-1.896931</td>\n",
       "      <td>-0.483866</td>\n",
       "      <td>0.242156</td>\n",
       "      <td>-0.430050</td>\n",
       "      <td>-1.606360</td>\n",
       "      <td>-3.492318</td>\n",
       "      <td>-4.139088</td>\n",
       "      <td>-5.095838</td>\n",
       "      <td>...</td>\n",
       "      <td>-0.277872</td>\n",
       "      <td>-2.104414</td>\n",
       "      <td>-1.954715</td>\n",
       "      <td>-0.947414</td>\n",
       "      <td>-2.361117</td>\n",
       "      <td>-0.865691</td>\n",
       "      <td>0.460226</td>\n",
       "      <td>-0.738596</td>\n",
       "      <td>2.485438</td>\n",
       "      <td>4.554656</td>\n",
       "    </tr>\n",
       "  </tbody>\n",
       "</table>\n",
       "<p>5 rows × 1000 columns</p>\n",
       "</div>"
      ],
      "text/plain": [
       "                  1         2         3         4         5         6     \\\n",
       "0                                                                          \n",
       "dog.2763.jpg  0.191800 -0.803395 -0.005326  2.337957 -0.058493  1.314067   \n",
       "dog.5375.jpg  1.127481 -0.808255  3.906797  4.054758  3.053132  1.622652   \n",
       "dog.1938.jpg -2.068633 -2.592227  5.452961  2.596817  6.415600 -0.888116   \n",
       "cat.5596.jpg -0.210350 -0.497902 -0.775046 -0.399235 -0.792070  2.944323   \n",
       "dog.1699.jpg  2.866545 -0.830160 -1.896931 -0.483866  0.242156 -0.430050   \n",
       "\n",
       "                  7         8         9         10      ...         991   \\\n",
       "0                                                       ...                \n",
       "dog.2763.jpg -1.855294 -2.254517 -0.655029 -3.587891    ...     0.548225   \n",
       "dog.5375.jpg  1.651870  1.205274  4.378825 -3.410185    ...     0.631116   \n",
       "dog.1938.jpg -1.019997  2.542678  4.478345  6.878991    ...    -2.416040   \n",
       "cat.5596.jpg -0.146743 -1.464098  2.574441  0.004246    ...     0.044877   \n",
       "dog.1699.jpg -1.606360 -3.492318 -4.139088 -5.095838    ...    -0.277872   \n",
       "\n",
       "                  992       993       994       995       996       997   \\\n",
       "0                                                                          \n",
       "dog.2763.jpg -2.764723 -1.551377 -1.373128 -2.043100  0.280252 -1.631029   \n",
       "dog.5375.jpg -0.711681 -2.039704  0.896076  1.786257 -0.120622  0.451443   \n",
       "dog.1938.jpg -4.809243 -5.907395 -6.705701 -2.842032  0.707400 -2.176455   \n",
       "cat.5596.jpg -2.026856 -4.097556 -2.313842 -2.917740 -0.060989  0.616246   \n",
       "dog.1699.jpg -2.104414 -1.954715 -0.947414 -2.361117 -0.865691  0.460226   \n",
       "\n",
       "                  998       999       1000  \n",
       "0                                           \n",
       "dog.2763.jpg -3.677322  2.231984  1.780801  \n",
       "dog.5375.jpg -3.361825 -0.203670 -1.154845  \n",
       "dog.1938.jpg -5.414921 -2.638503  4.106265  \n",
       "cat.5596.jpg -2.454575  1.104608  2.770818  \n",
       "dog.1699.jpg -0.738596  2.485438  4.554656  \n",
       "\n",
       "[5 rows x 1000 columns]"
      ]
     },
     "execution_count": 4,
     "metadata": {},
     "output_type": "execute_result"
    }
   ],
   "source": [
    "X_train, X_val, y_train, y_val = train_test_split(X, y, test_size=3000)\n",
    "print(X_train.shape, y_train.shape)\n",
    "X_train.head()"
   ]
  },
  {
   "cell_type": "markdown",
   "metadata": {},
   "source": [
    "-----\n",
    "\n",
    "### Random Forest"
   ]
  },
  {
   "cell_type": "code",
   "execution_count": 5,
   "metadata": {
    "collapsed": false
   },
   "outputs": [
    {
     "name": "stderr",
     "output_type": "stream",
     "text": [
      "[Parallel(n_jobs=4)]: Done  42 tasks      | elapsed:   18.9s\n",
      "[Parallel(n_jobs=4)]: Done 150 out of 150 | elapsed:  1.2min finished\n"
     ]
    },
    {
     "data": {
      "text/plain": [
       "RandomForestClassifier(bootstrap=True, class_weight=None, criterion='gini',\n",
       "            max_depth=None, max_features='auto', max_leaf_nodes=None,\n",
       "            min_impurity_split=1e-07, min_samples_leaf=1,\n",
       "            min_samples_split=2, min_weight_fraction_leaf=0.0,\n",
       "            n_estimators=150, n_jobs=4, oob_score=False, random_state=None,\n",
       "            verbose=1, warm_start=True)"
      ]
     },
     "execution_count": 5,
     "metadata": {},
     "output_type": "execute_result"
    }
   ],
   "source": [
    "# finetuned\n",
    "clf = RandomForestClassifier(\n",
    "    n_estimators=150,\n",
    "    max_depth=None,\n",
    "    warm_start=True,\n",
    "    n_jobs=4, verbose=1)\n",
    "clf.fit(X_train, y_train)"
   ]
  },
  {
   "cell_type": "code",
   "execution_count": 6,
   "metadata": {
    "collapsed": false
   },
   "outputs": [
    {
     "name": "stdout",
     "output_type": "stream",
     "text": [
      "Accuracy:\t0.9760\n",
      "Precition:\t0.9714\n",
      "Recall:\t\t0.9816\n",
      "F1-score:\t0.9765\n"
     ]
    },
    {
     "name": "stderr",
     "output_type": "stream",
     "text": [
      "[Parallel(n_jobs=4)]: Done  42 tasks      | elapsed:    0.1s\n",
      "[Parallel(n_jobs=4)]: Done 150 out of 150 | elapsed:    0.2s finished\n"
     ]
    }
   ],
   "source": [
    "y_pred = clf.predict(X_val)\n",
    "\n",
    "print('Accuracy:\\t%.4f' % accuracy_score(y_val, y_pred))\n",
    "print('Precition:\\t%.4f' % precision_score(y_val, y_pred))\n",
    "print('Recall:\\t\\t%.4f' % recall_score(y_val, y_pred))\n",
    "print('F1-score:\\t%.4f' % f1_score(y_val, y_pred))"
   ]
  },
  {
   "cell_type": "code",
   "execution_count": 7,
   "metadata": {
    "collapsed": false
   },
   "outputs": [
    {
     "data": {
      "image/png": "[encoded data removed]",
      "text/plain": [
       "<matplotlib.figure.Figure at 0x10a2c5fd0>"
      ]
     },
     "metadata": {},
     "output_type": "display_data"
    }
   ],
   "source": [
    "plt.plot(clf.feature_importances_)\n",
    "plt.xlim((0, X.shape[1]))\n",
    "plt.title('Feature importance');"
   ]
  },
  {
   "cell_type": "code",
   "execution_count": null,
   "metadata": {
    "collapsed": true
   },
   "outputs": [],
   "source": [
    "y_pred = pd.DataFrame(clf.predict(X_test), columns=['label'], index=X_test.index)\n",
    "y_pred[y_pred['label'] == 0] = 'cat'\n",
    "y_pred[y_pred['label'] == 1] = 'dog'\n",
    "y_pred.to_csv('resnet_rf.csv', index_label='file')"
   ]
  },
  {
   "cell_type": "markdown",
   "metadata": {},
   "source": [
    "-----\n",
    "\n",
    "### SGD"
   ]
  },
  {
   "cell_type": "code",
   "execution_count": 8,
   "metadata": {
    "collapsed": false
   },
   "outputs": [
    {
     "data": {
      "text/plain": [
       "SGDClassifier(alpha=1e-05, average=False, class_weight=None, epsilon=0.1,\n",
       "       eta0=0.0, fit_intercept=True, l1_ratio=0.15,\n",
       "       learning_rate='optimal', loss='hinge', n_iter=10, n_jobs=4,\n",
       "       penalty='l1', power_t=0.5, random_state=None, shuffle=True,\n",
       "       verbose=0, warm_start=False)"
      ]
     },
     "execution_count": 8,
     "metadata": {},
     "output_type": "execute_result"
    }
   ],
   "source": [
    "# finetuned\n",
    "clf = SGDClassifier(loss='hinge', penalty='l1', alpha=1e-5, n_iter=10, n_jobs=4)\n",
    "clf.fit(X_train, y_train)"
   ]
  },
  {
   "cell_type": "code",
   "execution_count": 9,
   "metadata": {
    "collapsed": false
   },
   "outputs": [
    {
     "name": "stdout",
     "output_type": "stream",
     "text": [
      "Accuracy:\t0.9767\n",
      "Precition:\t0.9802\n",
      "Recall:\t\t0.9738\n",
      "F1-score:\t0.9770\n"
     ]
    }
   ],
   "source": [
    "y_pred = clf.predict(X_val)\n",
    "\n",
    "print('Accuracy:\\t%.4f' % accuracy_score(y_val, y_pred))\n",
    "print('Precition:\\t%.4f' % precision_score(y_val, y_pred))\n",
    "print('Recall:\\t\\t%.4f' % recall_score(y_val, y_pred))\n",
    "print('F1-score:\\t%.4f' % f1_score(y_val, y_pred))"
   ]
  },
  {
   "cell_type": "code",
   "execution_count": 21,
   "metadata": {
    "collapsed": true
   },
   "outputs": [],
   "source": [
    "y_pred = pd.DataFrame(clf.predict(X_test), columns=['label'], index=X_test.index)\n",
    "y_pred[y_pred['label'] == 0] = 'cat'\n",
    "y_pred[y_pred['label'] == 1] = 'dog'\n",
    "y_pred.to_csv('resnet_sgd.csv', index_label='file')"
   ]
  },
  {
   "cell_type": "markdown",
   "metadata": {},
   "source": [
    "-----\n",
    "\n",
    "### Neural Network"
   ]
  },
  {
   "cell_type": "code",
   "execution_count": 10,
   "metadata": {
    "collapsed": true
   },
   "outputs": [],
   "source": [
    "import lasagne\n",
    "import theano\n",
    "import theano.tensor as T\n",
    "\n",
    "from lasagne.layers import InputLayer\n",
    "from lasagne.layers import DenseLayer\n",
    "from lasagne.layers import NonlinearityLayer\n",
    "from lasagne.layers import BatchNormLayer\n",
    "from lasagne.layers import DropoutLayer\n",
    "from lasagne.nonlinearities import softmax, sigmoid\n",
    "\n",
    "# finetuned\n",
    "def build_model():\n",
    "    net = {}\n",
    "    net['input'] = InputLayer((None, 1000))\n",
    "    net['fc1'] = DenseLayer(net['input'], num_units=128, nonlinearity=None)\n",
    "    net['bn1'] = BatchNormLayer(net['fc1'])\n",
    "    net['nl1'] = NonlinearityLayer(net['bn1'], sigmoid)\n",
    "    net['fc1_dropout'] = DropoutLayer(net['nl1'], p=0.5)\n",
    "    net['fc2'] = DenseLayer(net['fc1_dropout'], num_units=32, nonlinearity=None)\n",
    "    net['bn2'] = BatchNormLayer(net['fc2'])\n",
    "    net['nl2'] = NonlinearityLayer(net['bn2'], sigmoid)\n",
    "    net['fc2_dropout'] = DropoutLayer(net['nl2'], p=0.5)\n",
    "    net['fc3'] = DenseLayer(net['fc2_dropout'], num_units=2, nonlinearity=None)\n",
    "    net['prob'] = NonlinearityLayer(net['fc3'], softmax)\n",
    "\n",
    "    return net\n",
    "\n",
    "# batch generator\n",
    "def get_batches(dataset, batch_size):\n",
    "    X, Y = dataset\n",
    "    n_samples = X.shape[0]\n",
    "        \n",
    "    # Shuffle at the start of epoch\n",
    "    indices = np.arange(n_samples)\n",
    "    np.random.shuffle(indices)\n",
    "    \n",
    "    for start in range(0, n_samples, batch_size):\n",
    "        end = min(start + batch_size, n_samples)\n",
    "        \n",
    "        batch_idx = indices[start:end]\n",
    "    \n",
    "        yield X.loc[X.index[batch_idx]], Y[batch_idx]"
   ]
  },
  {
   "cell_type": "code",
   "execution_count": 11,
   "metadata": {
    "collapsed": true
   },
   "outputs": [],
   "source": [
    "input_var = T.matrix('inputs')\n",
    "target_var = T.ivector('targets')\n",
    "learning_rate = T.scalar(name='learning_rate')\n",
    "\n",
    "net = build_model()\n",
    "\n",
    "prediction = lasagne.layers.get_output(net['prob'], input_var)\n",
    "loss = lasagne.objectives.categorical_crossentropy(prediction, target_var).mean()\n",
    "\n",
    "params = lasagne.layers.get_all_params(net['prob'], trainable=True)\n",
    "updates = lasagne.updates.adam(loss, params, learning_rate=learning_rate)"
   ]
  },
  {
   "cell_type": "code",
   "execution_count": 12,
   "metadata": {
    "collapsed": true
   },
   "outputs": [],
   "source": [
    "test_prediction = lasagne.layers.get_output(net['prob'], input_var, deterministic=True)\n",
    "test_loss = lasagne.objectives.categorical_crossentropy(test_prediction, target_var).mean()\n",
    "\n",
    "test_acc = T.mean(T.eq(T.argmax(test_prediction, axis=1), target_var),dtype=theano.config.floatX)"
   ]
  },
  {
   "cell_type": "code",
   "execution_count": 13,
   "metadata": {
    "collapsed": true
   },
   "outputs": [],
   "source": [
    "train_fn = theano.function([input_var, target_var, learning_rate], loss, updates=updates, allow_input_downcast=True)\n",
    "val_fn = theano.function([input_var, target_var], [test_loss, test_acc], allow_input_downcast=True)\n",
    "predict = theano.function([input_var], test_prediction, allow_input_downcast=True)"
   ]
  },
  {
   "cell_type": "code",
   "execution_count": 14,
   "metadata": {
    "collapsed": false
   },
   "outputs": [
    {
     "name": "stdout",
     "output_type": "stream",
     "text": [
      "\n",
      "Epoch 1 of 30 took 1.720s\n",
      "  loss:\t\t\t0.705094,0.474062\n",
      "  validation accuracy:\t\t86.83 %\n",
      "\n",
      "Epoch 2 of 30 took 2.054s\n",
      "  loss:\t\t\t0.568909,0.407352\n",
      "  validation accuracy:\t\t91.60 %\n",
      "\n",
      "Epoch 3 of 30 took 1.482s\n",
      "  loss:\t\t\t0.509216,0.371002\n",
      "  validation accuracy:\t\t93.57 %\n",
      "\n",
      "Epoch 4 of 30 took 1.513s\n",
      "  loss:\t\t\t0.468463,0.346793\n",
      "  validation accuracy:\t\t94.33 %\n",
      "\n",
      "Epoch 5 of 30 took 1.829s\n",
      "  loss:\t\t\t0.447645,0.328452\n",
      "  validation accuracy:\t\t95.20 %\n",
      "\n",
      "Epoch 6 of 30 took 2.810s\n",
      "  loss:\t\t\t0.424914,0.311719\n",
      "  validation accuracy:\t\t95.73 %\n",
      "\n",
      "Epoch 7 of 30 took 2.079s\n",
      "  loss:\t\t\t0.410022,0.297967\n",
      "  validation accuracy:\t\t96.10 %\n",
      "\n",
      "Epoch 8 of 30 took 1.470s\n",
      "  loss:\t\t\t0.394363,0.285952\n",
      "  validation accuracy:\t\t96.43 %\n",
      "\n",
      "Epoch 9 of 30 took 1.484s\n",
      "  loss:\t\t\t0.379239,0.275140\n",
      "  validation accuracy:\t\t96.67 %\n",
      "\n",
      "Epoch 10 of 30 took 1.790s\n",
      "  loss:\t\t\t0.369614,0.265773\n",
      "  validation accuracy:\t\t96.90 %\n",
      "\n",
      "Epoch 11 of 30 took 2.514s\n",
      "  loss:\t\t\t0.360206,0.256994\n",
      "  validation accuracy:\t\t97.00 %\n",
      "\n",
      "Epoch 12 of 30 took 1.927s\n",
      "  loss:\t\t\t0.347297,0.249122\n",
      "  validation accuracy:\t\t97.10 %\n",
      "\n",
      "Epoch 13 of 30 took 2.160s\n",
      "  loss:\t\t\t0.337606,0.241441\n",
      "  validation accuracy:\t\t97.10 %\n",
      "\n",
      "Epoch 14 of 30 took 2.329s\n",
      "  loss:\t\t\t0.326908,0.234892\n",
      "  validation accuracy:\t\t97.10 %\n",
      "\n",
      "Epoch 15 of 30 took 1.758s\n",
      "  loss:\t\t\t0.319999,0.228096\n",
      "  validation accuracy:\t\t97.17 %\n",
      "\n",
      "Epoch 16 of 30 took 1.944s\n",
      "  loss:\t\t\t0.317502,0.221230\n",
      "  validation accuracy:\t\t97.20 %\n",
      "\n",
      "Epoch 17 of 30 took 1.813s\n",
      "  loss:\t\t\t0.308946,0.215989\n",
      "  validation accuracy:\t\t97.20 %\n",
      "\n",
      "Epoch 18 of 30 took 2.493s\n",
      "  loss:\t\t\t0.303731,0.210552\n",
      "  validation accuracy:\t\t97.23 %\n",
      "\n",
      "Epoch 19 of 30 took 1.553s\n",
      "  loss:\t\t\t0.295800,0.205549\n",
      "  validation accuracy:\t\t97.27 %\n",
      "\n",
      "Epoch 20 of 30 took 1.468s\n",
      "  loss:\t\t\t0.288506,0.200184\n",
      "  validation accuracy:\t\t97.33 %\n",
      "\n",
      "Epoch 21 of 30 took 1.459s\n",
      "  loss:\t\t\t0.285451,0.195429\n",
      "  validation accuracy:\t\t97.43 %\n",
      "\n",
      "Epoch 22 of 30 took 1.528s\n",
      "  loss:\t\t\t0.280145,0.190114\n",
      "  validation accuracy:\t\t97.40 %\n",
      "\n",
      "Epoch 23 of 30 took 2.068s\n",
      "  loss:\t\t\t0.275902,0.186619\n",
      "  validation accuracy:\t\t97.37 %\n",
      "\n",
      "Epoch 24 of 30 took 2.082s\n",
      "  loss:\t\t\t0.266737,0.182947\n",
      "  validation accuracy:\t\t97.40 %\n",
      "\n",
      "Epoch 25 of 30 took 1.693s\n",
      "  loss:\t\t\t0.262672,0.179294\n",
      "  validation accuracy:\t\t97.43 %\n",
      "\n",
      "Epoch 26 of 30 took 2.215s\n",
      "  loss:\t\t\t0.258630,0.175394\n",
      "  validation accuracy:\t\t97.37 %\n",
      "\n",
      "Epoch 27 of 30 took 2.741s\n",
      "  loss:\t\t\t0.256681,0.171706\n",
      "  validation accuracy:\t\t97.40 %\n",
      "\n",
      "Epoch 28 of 30 took 2.366s\n",
      "  loss:\t\t\t0.246815,0.167893\n",
      "  validation accuracy:\t\t97.43 %\n",
      "\n",
      "Epoch 29 of 30 took 1.525s\n",
      "  loss:\t\t\t0.246301,0.164555\n",
      "  validation accuracy:\t\t97.43 %\n",
      "\n",
      "Epoch 30 of 30 took 1.448s\n",
      "  loss:\t\t\t0.238055,0.161455\n",
      "  validation accuracy:\t\t97.53 %\n"
     ]
    }
   ],
   "source": [
    "num_epochs = 30\n",
    "lr = 1e-4\n",
    "for epoch in range(num_epochs):\n",
    "    # In each epoch, we do a full pass over the training data:\n",
    "    train_err = 0\n",
    "    train_batches = 0\n",
    "    start_time = time.time()\n",
    "    for batch in get_batches((X_train, y_train), 1000):\n",
    "        inputs, targets = batch\n",
    "        train_err += train_fn(inputs, targets, lr)\n",
    "        train_batches += 1\n",
    "        sys.stdout.flush()\n",
    "    \n",
    "    # And a full pass over the validation data:\n",
    "    val_err = 0\n",
    "    val_acc = 0\n",
    "    val_batches = 0\n",
    "    for batch in get_batches((X_val, y_val), 500):\n",
    "        inputs, targets = batch\n",
    "        err, acc = val_fn(inputs, targets)\n",
    "        val_err += err\n",
    "        val_acc += acc\n",
    "        val_batches += 1\n",
    "\n",
    "#     # Then we print the results for this epoch:\n",
    "#     if epoch % 5 == 0: \n",
    "    print(\"\\nEpoch {} of {} took {:.3f}s\".format(\n",
    "        epoch + 1, num_epochs, time.time() - start_time))\n",
    "    print(\"  loss:\\t\\t\\t{:.6f},{:.6f}\".format(train_err / train_batches, val_err / val_batches))\n",
    "    print(\"  validation accuracy:\\t\\t{:.2f} %\".format(\n",
    "        val_acc / val_batches * 100))\n",
    "    sys.stdout.flush()"
   ]
  },
  {
   "cell_type": "code",
   "execution_count": 15,
   "metadata": {
    "collapsed": false
   },
   "outputs": [
    {
     "name": "stdout",
     "output_type": "stream",
     "text": [
      "Train: 0.9795 0.9786 0.9803 0.9795\n",
      "Valid: 0.9753 0.9764 0.9751 0.9757\n"
     ]
    }
   ],
   "source": [
    "y_true, y_pred = [], []\n",
    "for batch in get_batches((X_train, y_train), 500):\n",
    "    inputs, targets = batch\n",
    "    y_pred.extend((predict(inputs)[:,1] > 0.5).astype(int))\n",
    "    y_true.extend(targets)\n",
    "print('Train: %.4f %.4f %.4f %.4f' %\\\n",
    "      (accuracy_score(y_true, y_pred),\\\n",
    "       precision_score(y_true, y_pred),\\\n",
    "       recall_score(y_true, y_pred),\\\n",
    "       f1_score(y_true, y_pred)))\n",
    "\n",
    "y_true, y_pred = [], []\n",
    "for batch in get_batches((X_val, y_val), 500):\n",
    "    inputs, targets = batch\n",
    "    y_pred.extend((predict(inputs)[:,1] > 0.5).astype(int))\n",
    "    y_true.extend(targets)\n",
    "    \n",
    "print('Valid: %.4f %.4f %.4f %.4f' %\\\n",
    "      (accuracy_score(y_true, y_pred),\\\n",
    "       precision_score(y_true, y_pred),\\\n",
    "       recall_score(y_true, y_pred),\\\n",
    "       f1_score(y_true, y_pred)))"
   ]
  },
  {
   "cell_type": "code",
   "execution_count": null,
   "metadata": {
    "collapsed": true
   },
   "outputs": [],
   "source": [
    "y_pred = pd.DataFrame(predict(X_test)[:,1] > 0.5, columns=['label'], index=X_test.index)\n",
    "y_pred[y_pred['label'] == False] = 'cat'\n",
    "y_pred[y_pred['label'] == True] = 'dog'\n",
    "y_pred.to_csv('resnet_nn.csv', index_label='file')"
   ]
  },
  {
   "cell_type": "markdown",
   "metadata": {},
   "source": [
    "-----\n",
    "\n",
    "### XGBoost"
   ]
  },
  {
   "cell_type": "code",
   "execution_count": 16,
   "metadata": {
    "collapsed": false
   },
   "outputs": [
    {
     "data": {
      "text/plain": [
       "XGBClassifier(base_score=0.5, colsample_bytree=0.3, gamma=0,\n",
       "       learning_rate=0.1, max_delta_step=0, max_depth=5,\n",
       "       min_child_weight=1, n_estimators=100, nthread=4,\n",
       "       objective='binary:logistic', seed=0, silent=True, subsample=1)"
      ]
     },
     "execution_count": 16,
     "metadata": {},
     "output_type": "execute_result"
    }
   ],
   "source": [
    "# finetuned\n",
    "clf = xgboost.XGBClassifier(\n",
    "        n_estimators=100, \n",
    "        max_depth=5,\n",
    "        learning_rate=0.1,\n",
    "        colsample_bytree = 0.3,\n",
    "        objective='binary:logistic', nthread=4)\n",
    "clf.fit(X_train, y_train)"
   ]
  },
  {
   "cell_type": "code",
   "execution_count": 17,
   "metadata": {
    "collapsed": false
   },
   "outputs": [
    {
     "name": "stdout",
     "output_type": "stream",
     "text": [
      "Accuracy:\t0.9790\n",
      "Precition:\t0.9803\n",
      "Recall:\t\t0.9784\n",
      "F1-score:\t0.9793\n"
     ]
    }
   ],
   "source": [
    "y_pred = clf.predict(X_val)\n",
    "\n",
    "print('Accuracy:\\t%.4f' % accuracy_score(y_val, y_pred))\n",
    "print('Precition:\\t%.4f' % precision_score(y_val, y_pred))\n",
    "print('Recall:\\t\\t%.4f' % recall_score(y_val, y_pred))\n",
    "print('F1-score:\\t%.4f' % f1_score(y_val, y_pred))"
   ]
  },
  {
   "cell_type": "code",
   "execution_count": 11,
   "metadata": {
    "collapsed": true
   },
   "outputs": [],
   "source": [
    "y_pred = pd.DataFrame(clf.predict(X_test), columns=['label'], index=X_test.index)\n",
    "y_pred[y_pred['label'] == 0] = 'cat'\n",
    "y_pred[y_pred['label'] == 1] = 'dog'\n",
    "y_pred.to_csv('resnet_xgbst.csv', index_label='file')"
   ]
  }
 ],
 "metadata": {
  "anaconda-cloud": {},
  "kernelspec": {
   "display_name": "Python [conda root]",
   "language": "python",
   "name": "conda-root-py"
  },
  "language_info": {
   "codemirror_mode": {
    "name": "ipython",
    "version": 2
   },
   "file_extension": ".py",
   "mimetype": "text/x-python",
   "name": "python",
   "nbconvert_exporter": "python",
   "pygments_lexer": "ipython2",
   "version": "2.7.12"
  }
 },
 "nbformat": 4,
 "nbformat_minor": 1
}
