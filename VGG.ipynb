{
 "cells": [
  {
   "cell_type": "markdown",
   "metadata": {},
   "source": [
    "### Loading data"
   ]
  },
  {
   "cell_type": "code",
   "execution_count": 1,
   "metadata": {
    "collapsed": false
   },
   "outputs": [],
   "source": [
    "import time \n",
    "import sys\n",
    "import xgboost\n",
    "\n",
    "import pandas as pd\n",
    "import numpy as np\n",
    "import matplotlib.pyplot as plt\n",
    "\n",
    "from sklearn.model_selection import train_test_split\n",
    "from sklearn.ensemble import RandomForestClassifier\n",
    "from sklearn.metrics import accuracy_score, f1_score, precision_score, recall_score\n",
    "from sklearn.linear_model import SGDClassifier\n",
    "\n",
    "%matplotlib inline"
   ]
  },
  {
   "cell_type": "code",
   "execution_count": 2,
   "metadata": {
    "collapsed": false
   },
   "outputs": [],
   "source": [
    "X = pd.read_csv('data/train/vgg_train_features.csv', header=None, index_col=0)\n",
    "y = np.array([0 if x.startswith('cat') else 1 for x in X.index])\n",
    "X_test = pd.read_csv('data/test/vgg_test_features.csv', header=None, index_col=0)"
   ]
  },
  {
   "cell_type": "code",
   "execution_count": 3,
   "metadata": {
    "collapsed": false
   },
   "outputs": [
    {
     "name": "stdout",
     "output_type": "stream",
     "text": [
      "((22000, 4096), (22000,))\n"
     ]
    },
    {
     "data": {
      "text/html": [
       "<div>\n",
       "<table border=\"1\" class=\"dataframe\">\n",
       "  <thead>\n",
       "    <tr style=\"text-align: right;\">\n",
       "      <th></th>\n",
       "      <th>1</th>\n",
       "      <th>2</th>\n",
       "      <th>3</th>\n",
       "      <th>4</th>\n",
       "      <th>5</th>\n",
       "      <th>6</th>\n",
       "      <th>7</th>\n",
       "      <th>8</th>\n",
       "      <th>9</th>\n",
       "      <th>10</th>\n",
       "      <th>...</th>\n",
       "      <th>4087</th>\n",
       "      <th>4088</th>\n",
       "      <th>4089</th>\n",
       "      <th>4090</th>\n",
       "      <th>4091</th>\n",
       "      <th>4092</th>\n",
       "      <th>4093</th>\n",
       "      <th>4094</th>\n",
       "      <th>4095</th>\n",
       "      <th>4096</th>\n",
       "    </tr>\n",
       "    <tr>\n",
       "      <th>0</th>\n",
       "      <th></th>\n",
       "      <th></th>\n",
       "      <th></th>\n",
       "      <th></th>\n",
       "      <th></th>\n",
       "      <th></th>\n",
       "      <th></th>\n",
       "      <th></th>\n",
       "      <th></th>\n",
       "      <th></th>\n",
       "      <th></th>\n",
       "      <th></th>\n",
       "      <th></th>\n",
       "      <th></th>\n",
       "      <th></th>\n",
       "      <th></th>\n",
       "      <th></th>\n",
       "      <th></th>\n",
       "      <th></th>\n",
       "      <th></th>\n",
       "      <th></th>\n",
       "    </tr>\n",
       "  </thead>\n",
       "  <tbody>\n",
       "    <tr>\n",
       "      <th>dog.1619.jpg</th>\n",
       "      <td>0.000000</td>\n",
       "      <td>2.973565</td>\n",
       "      <td>5.215432</td>\n",
       "      <td>0.000000</td>\n",
       "      <td>0.0</td>\n",
       "      <td>0.000000</td>\n",
       "      <td>0.000000</td>\n",
       "      <td>0.0</td>\n",
       "      <td>0.000000</td>\n",
       "      <td>0.000000</td>\n",
       "      <td>...</td>\n",
       "      <td>0.0</td>\n",
       "      <td>0.000000</td>\n",
       "      <td>0.0</td>\n",
       "      <td>0.0</td>\n",
       "      <td>0.000000</td>\n",
       "      <td>0.944644</td>\n",
       "      <td>0.000000</td>\n",
       "      <td>2.926491</td>\n",
       "      <td>0.0</td>\n",
       "      <td>0.000000</td>\n",
       "    </tr>\n",
       "    <tr>\n",
       "      <th>dog.9505.jpg</th>\n",
       "      <td>0.604877</td>\n",
       "      <td>0.000000</td>\n",
       "      <td>2.768252</td>\n",
       "      <td>0.966774</td>\n",
       "      <td>0.0</td>\n",
       "      <td>0.000000</td>\n",
       "      <td>6.409990</td>\n",
       "      <td>0.0</td>\n",
       "      <td>0.000000</td>\n",
       "      <td>0.000000</td>\n",
       "      <td>...</td>\n",
       "      <td>0.0</td>\n",
       "      <td>2.104954</td>\n",
       "      <td>0.0</td>\n",
       "      <td>0.0</td>\n",
       "      <td>0.000000</td>\n",
       "      <td>0.000000</td>\n",
       "      <td>0.000000</td>\n",
       "      <td>0.000000</td>\n",
       "      <td>0.0</td>\n",
       "      <td>0.000000</td>\n",
       "    </tr>\n",
       "    <tr>\n",
       "      <th>cat.9425.jpg</th>\n",
       "      <td>0.000000</td>\n",
       "      <td>0.000000</td>\n",
       "      <td>0.000000</td>\n",
       "      <td>0.000000</td>\n",
       "      <td>0.0</td>\n",
       "      <td>1.233131</td>\n",
       "      <td>0.296057</td>\n",
       "      <td>0.0</td>\n",
       "      <td>0.000000</td>\n",
       "      <td>1.609659</td>\n",
       "      <td>...</td>\n",
       "      <td>0.0</td>\n",
       "      <td>0.000000</td>\n",
       "      <td>0.0</td>\n",
       "      <td>0.0</td>\n",
       "      <td>0.880284</td>\n",
       "      <td>1.727552</td>\n",
       "      <td>0.000000</td>\n",
       "      <td>0.000000</td>\n",
       "      <td>0.0</td>\n",
       "      <td>2.213197</td>\n",
       "    </tr>\n",
       "    <tr>\n",
       "      <th>cat.4447.jpg</th>\n",
       "      <td>0.000000</td>\n",
       "      <td>0.000000</td>\n",
       "      <td>0.000000</td>\n",
       "      <td>7.242090</td>\n",
       "      <td>0.0</td>\n",
       "      <td>0.000000</td>\n",
       "      <td>0.000000</td>\n",
       "      <td>0.0</td>\n",
       "      <td>0.039648</td>\n",
       "      <td>0.000000</td>\n",
       "      <td>...</td>\n",
       "      <td>0.0</td>\n",
       "      <td>0.000000</td>\n",
       "      <td>0.0</td>\n",
       "      <td>0.0</td>\n",
       "      <td>0.000000</td>\n",
       "      <td>5.208019</td>\n",
       "      <td>2.630467</td>\n",
       "      <td>0.000000</td>\n",
       "      <td>0.0</td>\n",
       "      <td>1.954571</td>\n",
       "    </tr>\n",
       "    <tr>\n",
       "      <th>cat.762.jpg</th>\n",
       "      <td>0.000000</td>\n",
       "      <td>0.000000</td>\n",
       "      <td>2.309701</td>\n",
       "      <td>3.420354</td>\n",
       "      <td>0.0</td>\n",
       "      <td>0.000000</td>\n",
       "      <td>2.157184</td>\n",
       "      <td>0.0</td>\n",
       "      <td>0.000000</td>\n",
       "      <td>0.000000</td>\n",
       "      <td>...</td>\n",
       "      <td>0.0</td>\n",
       "      <td>0.000000</td>\n",
       "      <td>0.0</td>\n",
       "      <td>0.0</td>\n",
       "      <td>1.259615</td>\n",
       "      <td>0.000000</td>\n",
       "      <td>0.000000</td>\n",
       "      <td>0.000000</td>\n",
       "      <td>0.0</td>\n",
       "      <td>1.783026</td>\n",
       "    </tr>\n",
       "  </tbody>\n",
       "</table>\n",
       "<p>5 rows × 4096 columns</p>\n",
       "</div>"
      ],
      "text/plain": [
       "                  1         2         3         4     5         6     \\\n",
       "0                                                                      \n",
       "dog.1619.jpg  0.000000  2.973565  5.215432  0.000000   0.0  0.000000   \n",
       "dog.9505.jpg  0.604877  0.000000  2.768252  0.966774   0.0  0.000000   \n",
       "cat.9425.jpg  0.000000  0.000000  0.000000  0.000000   0.0  1.233131   \n",
       "cat.4447.jpg  0.000000  0.000000  0.000000  7.242090   0.0  0.000000   \n",
       "cat.762.jpg   0.000000  0.000000  2.309701  3.420354   0.0  0.000000   \n",
       "\n",
       "                  7     8         9         10      ...     4087      4088  \\\n",
       "0                                                   ...                      \n",
       "dog.1619.jpg  0.000000   0.0  0.000000  0.000000    ...      0.0  0.000000   \n",
       "dog.9505.jpg  6.409990   0.0  0.000000  0.000000    ...      0.0  2.104954   \n",
       "cat.9425.jpg  0.296057   0.0  0.000000  1.609659    ...      0.0  0.000000   \n",
       "cat.4447.jpg  0.000000   0.0  0.039648  0.000000    ...      0.0  0.000000   \n",
       "cat.762.jpg   2.157184   0.0  0.000000  0.000000    ...      0.0  0.000000   \n",
       "\n",
       "              4089  4090      4091      4092      4093      4094  4095  \\\n",
       "0                                                                        \n",
       "dog.1619.jpg   0.0   0.0  0.000000  0.944644  0.000000  2.926491   0.0   \n",
       "dog.9505.jpg   0.0   0.0  0.000000  0.000000  0.000000  0.000000   0.0   \n",
       "cat.9425.jpg   0.0   0.0  0.880284  1.727552  0.000000  0.000000   0.0   \n",
       "cat.4447.jpg   0.0   0.0  0.000000  5.208019  2.630467  0.000000   0.0   \n",
       "cat.762.jpg    0.0   0.0  1.259615  0.000000  0.000000  0.000000   0.0   \n",
       "\n",
       "                  4096  \n",
       "0                       \n",
       "dog.1619.jpg  0.000000  \n",
       "dog.9505.jpg  0.000000  \n",
       "cat.9425.jpg  2.213197  \n",
       "cat.4447.jpg  1.954571  \n",
       "cat.762.jpg   1.783026  \n",
       "\n",
       "[5 rows x 4096 columns]"
      ]
     },
     "execution_count": 3,
     "metadata": {},
     "output_type": "execute_result"
    }
   ],
   "source": [
    "X_train, X_val, y_train, y_val = train_test_split(X, y, test_size=3000)\n",
    "print(X_train.shape, y_train.shape)\n",
    "X_train.head()"
   ]
  },
  {
   "cell_type": "markdown",
   "metadata": {},
   "source": [
    "-----\n",
    "\n",
    "### Random Forest"
   ]
  },
  {
   "cell_type": "code",
   "execution_count": 4,
   "metadata": {
    "collapsed": false
   },
   "outputs": [
    {
     "name": "stderr",
     "output_type": "stream",
     "text": [
      "[Parallel(n_jobs=4)]: Done  42 tasks      | elapsed:   14.2s\n",
      "[Parallel(n_jobs=4)]: Done 190 out of 190 | elapsed:  1.0min finished\n"
     ]
    },
    {
     "data": {
      "text/plain": [
       "RandomForestClassifier(bootstrap=True, class_weight=None, criterion='gini',\n",
       "            max_depth=None, max_features='auto', max_leaf_nodes=None,\n",
       "            min_impurity_split=1e-07, min_samples_leaf=1,\n",
       "            min_samples_split=2, min_weight_fraction_leaf=0.0,\n",
       "            n_estimators=190, n_jobs=4, oob_score=False, random_state=None,\n",
       "            verbose=1, warm_start=True)"
      ]
     },
     "execution_count": 4,
     "metadata": {},
     "output_type": "execute_result"
    }
   ],
   "source": [
    "# finetuned\n",
    "clf = RandomForestClassifier(\n",
    "    n_estimators=190,\n",
    "    max_depth=None,\n",
    "    warm_start=True,\n",
    "    n_jobs=4, verbose=1)\n",
    "clf.fit(X_train, y_train)"
   ]
  },
  {
   "cell_type": "code",
   "execution_count": 5,
   "metadata": {
    "collapsed": false
   },
   "outputs": [
    {
     "name": "stderr",
     "output_type": "stream",
     "text": [
      "[Parallel(n_jobs=4)]: Done  42 tasks      | elapsed:    0.1s\n"
     ]
    },
    {
     "name": "stdout",
     "output_type": "stream",
     "text": [
      "Accuracy:\t0.9693\n",
      "Precition:\t0.9657\n",
      "Recall:\t\t0.9734\n",
      "F1-score:\t0.9696\n"
     ]
    },
    {
     "name": "stderr",
     "output_type": "stream",
     "text": [
      "[Parallel(n_jobs=4)]: Done 190 out of 190 | elapsed:    0.3s finished\n"
     ]
    }
   ],
   "source": [
    "y_pred = clf.predict(X_val)\n",
    "\n",
    "print('Accuracy:\\t%.4f' % accuracy_score(y_val, y_pred))\n",
    "print('Precition:\\t%.4f' % precision_score(y_val, y_pred))\n",
    "print('Recall:\\t\\t%.4f' % recall_score(y_val, y_pred))\n",
    "print('F1-score:\\t%.4f' % f1_score(y_val, y_pred))"
   ]
  },
  {
   "cell_type": "code",
   "execution_count": 6,
   "metadata": {
    "collapsed": false
   },
   "outputs": [
    {
     "data": {
      "image/png": "[encoded data removed]",
      "text/plain": [
       "<matplotlib.figure.Figure at 0x104420290>"
      ]
     },
     "metadata": {},
     "output_type": "display_data"
    }
   ],
   "source": [
    "plt.plot(clf.feature_importances_)\n",
    "plt.xlim((0, X.shape[1]))\n",
    "plt.title('Feature importance');"
   ]
  },
  {
   "cell_type": "code",
   "execution_count": null,
   "metadata": {
    "collapsed": true
   },
   "outputs": [],
   "source": [
    "y_pred = pd.DataFrame(clf.predict(X_test), columns=['label'], index=X_test.index)\n",
    "y_pred[y_pred['label'] == 0] = 'cat'\n",
    "y_pred[y_pred['label'] == 1] = 'dog'\n",
    "y_pred.to_csv('vgg_rf.csv', index_label='file')"
   ]
  },
  {
   "cell_type": "markdown",
   "metadata": {},
   "source": [
    "-----\n",
    "\n",
    "### SGD"
   ]
  },
  {
   "cell_type": "code",
   "execution_count": 7,
   "metadata": {
    "collapsed": false
   },
   "outputs": [
    {
     "data": {
      "text/plain": [
       "SGDClassifier(alpha=0.65, average=False, class_weight=None, epsilon=1.0,\n",
       "       eta0=0.0, fit_intercept=True, l1_ratio=0.15,\n",
       "       learning_rate='optimal', loss='hinge', n_iter=5, n_jobs=4,\n",
       "       penalty='l2', power_t=0.5, random_state=None, shuffle=True,\n",
       "       verbose=0, warm_start=False)"
      ]
     },
     "execution_count": 7,
     "metadata": {},
     "output_type": "execute_result"
    }
   ],
   "source": [
    "# finetuned\n",
    "clf = SGDClassifier(loss='hinge', penalty='l2', epsilon=1., alpha=0.65,  n_jobs=4)\n",
    "clf.fit(X_train, y_train)"
   ]
  },
  {
   "cell_type": "code",
   "execution_count": 8,
   "metadata": {
    "collapsed": false
   },
   "outputs": [
    {
     "name": "stdout",
     "output_type": "stream",
     "text": [
      "Accuracy:\t0.9763\n",
      "Precition:\t0.9767\n",
      "Recall:\t\t0.9761\n",
      "F1-score:\t0.9764\n"
     ]
    }
   ],
   "source": [
    "y_pred = clf.predict(X_val)\n",
    "\n",
    "print('Accuracy:\\t%.4f' % accuracy_score(y_val, y_pred))\n",
    "print('Precition:\\t%.4f' % precision_score(y_val, y_pred))\n",
    "print('Recall:\\t\\t%.4f' % recall_score(y_val, y_pred))\n",
    "print('F1-score:\\t%.4f' % f1_score(y_val, y_pred))"
   ]
  },
  {
   "cell_type": "code",
   "execution_count": 21,
   "metadata": {
    "collapsed": true
   },
   "outputs": [],
   "source": [
    "y_pred = pd.DataFrame(clf.predict(X_test), columns=['label'], index=X_test.index)\n",
    "y_pred[y_pred['label'] == 0] = 'cat'\n",
    "y_pred[y_pred['label'] == 1] = 'dog'\n",
    "y_pred.to_csv('vgg_sgd.csv', index_label='file')"
   ]
  },
  {
   "cell_type": "markdown",
   "metadata": {},
   "source": [
    "-----\n",
    "\n",
    "### Neural Network"
   ]
  },
  {
   "cell_type": "code",
   "execution_count": 9,
   "metadata": {
    "collapsed": true
   },
   "outputs": [],
   "source": [
    "import lasagne\n",
    "import theano\n",
    "import theano.tensor as T\n",
    "\n",
    "from lasagne.layers import InputLayer\n",
    "from lasagne.layers import DenseLayer\n",
    "from lasagne.layers import NonlinearityLayer\n",
    "from lasagne.layers import BatchNormLayer\n",
    "from lasagne.layers import DropoutLayer\n",
    "from lasagne.nonlinearities import softmax, sigmoid\n",
    "\n",
    "# finetuned\n",
    "def build_model():\n",
    "    net = {}\n",
    "    net['input'] = InputLayer((None, 4096))\n",
    "    net['fc1'] = DenseLayer(net['input'], num_units=512, nonlinearity=None)\n",
    "    net['bn1'] = BatchNormLayer(net['fc1'])\n",
    "    net['nl1'] = NonlinearityLayer(net['bn1'], sigmoid)\n",
    "    net['fc1_dropout'] = DropoutLayer(net['nl1'], p=0.5)\n",
    "    net['fc2'] = DenseLayer(net['fc1_dropout'], num_units=64, nonlinearity=None)\n",
    "    net['bn2'] = BatchNormLayer(net['fc2'])\n",
    "    net['nl2'] = NonlinearityLayer(net['bn2'], sigmoid)\n",
    "    net['fc2_dropout'] = DropoutLayer(net['nl2'], p=0.5)\n",
    "    net['fc3'] = DenseLayer(net['fc2_dropout'], num_units=2, nonlinearity=None)\n",
    "    net['prob'] = NonlinearityLayer(net['fc3'], softmax)\n",
    "\n",
    "    return net\n",
    "\n",
    "# batch generator\n",
    "def get_batches(dataset, batch_size):\n",
    "    X, Y = dataset\n",
    "    n_samples = X.shape[0]\n",
    "        \n",
    "    # Shuffle at the start of epoch\n",
    "    indices = np.arange(n_samples)\n",
    "    np.random.shuffle(indices)\n",
    "    \n",
    "    for start in range(0, n_samples, batch_size):\n",
    "        end = min(start + batch_size, n_samples)\n",
    "        \n",
    "        batch_idx = indices[start:end]\n",
    "    \n",
    "        yield X.loc[X.index[batch_idx]], Y[batch_idx]"
   ]
  },
  {
   "cell_type": "code",
   "execution_count": 10,
   "metadata": {
    "collapsed": true
   },
   "outputs": [],
   "source": [
    "input_var = T.matrix('inputs')\n",
    "target_var = T.ivector('targets')\n",
    "learning_rate = T.scalar(name='learning_rate')\n",
    "\n",
    "net = build_model()\n",
    "\n",
    "prediction = lasagne.layers.get_output(net['prob'], input_var)\n",
    "loss = lasagne.objectives.categorical_crossentropy(prediction, target_var).mean()\n",
    "\n",
    "params = lasagne.layers.get_all_params(net['prob'], trainable=True)\n",
    "updates = lasagne.updates.adam(loss, params, learning_rate=learning_rate)"
   ]
  },
  {
   "cell_type": "code",
   "execution_count": 11,
   "metadata": {
    "collapsed": true
   },
   "outputs": [],
   "source": [
    "test_prediction = lasagne.layers.get_output(net['prob'], input_var, deterministic=True)\n",
    "test_loss = lasagne.objectives.categorical_crossentropy(test_prediction, target_var).mean()\n",
    "\n",
    "test_acc = T.mean(T.eq(T.argmax(test_prediction, axis=1), target_var),dtype=theano.config.floatX)"
   ]
  },
  {
   "cell_type": "code",
   "execution_count": 12,
   "metadata": {
    "collapsed": true
   },
   "outputs": [],
   "source": [
    "train_fn = theano.function([input_var, target_var, learning_rate], loss, updates=updates, allow_input_downcast=True)\n",
    "val_fn = theano.function([input_var, target_var], [test_loss, test_acc], allow_input_downcast=True)\n",
    "predict = theano.function([input_var], test_prediction, allow_input_downcast=True)"
   ]
  },
  {
   "cell_type": "code",
   "execution_count": 13,
   "metadata": {
    "collapsed": false
   },
   "outputs": [
    {
     "name": "stdout",
     "output_type": "stream",
     "text": [
      "\n",
      "Epoch 1 of 70 took 14.650s\n",
      "  loss:\t\t\t0.495189,0.213263\n",
      "  validation accuracy:\t\t95.23 %\n",
      "\n",
      "Epoch 2 of 70 took 14.249s\n",
      "  loss:\t\t\t0.323056,0.189897\n",
      "  validation accuracy:\t\t96.23 %\n",
      "\n",
      "Epoch 3 of 70 took 16.048s\n",
      "  loss:\t\t\t0.275076,0.175937\n",
      "  validation accuracy:\t\t96.87 %\n",
      "\n",
      "Epoch 4 of 70 took 17.490s\n",
      "  loss:\t\t\t0.251369,0.165233\n",
      "  validation accuracy:\t\t96.97 %\n",
      "\n",
      "Epoch 5 of 70 took 17.074s\n",
      "  loss:\t\t\t0.235663,0.156210\n",
      "  validation accuracy:\t\t97.30 %\n",
      "\n",
      "Epoch 6 of 70 took 13.535s\n",
      "  loss:\t\t\t0.220313,0.149320\n",
      "  validation accuracy:\t\t97.23 %\n",
      "\n",
      "Epoch 7 of 70 took 16.510s\n",
      "  loss:\t\t\t0.211799,0.143165\n",
      "  validation accuracy:\t\t97.27 %\n",
      "\n",
      "Epoch 8 of 70 took 15.509s\n",
      "  loss:\t\t\t0.204222,0.138039\n",
      "  validation accuracy:\t\t97.37 %\n",
      "\n",
      "Epoch 9 of 70 took 15.334s\n",
      "  loss:\t\t\t0.194345,0.133163\n",
      "  validation accuracy:\t\t97.30 %\n",
      "\n",
      "Epoch 10 of 70 took 13.025s\n",
      "  loss:\t\t\t0.188562,0.128811\n",
      "  validation accuracy:\t\t97.37 %\n",
      "\n",
      "Epoch 11 of 70 took 15.015s\n",
      "  loss:\t\t\t0.184346,0.124692\n",
      "  validation accuracy:\t\t97.40 %\n",
      "\n",
      "Epoch 12 of 70 took 13.635s\n",
      "  loss:\t\t\t0.174839,0.121728\n",
      "  validation accuracy:\t\t97.37 %\n",
      "\n",
      "Epoch 13 of 70 took 16.321s\n",
      "  loss:\t\t\t0.168428,0.118080\n",
      "  validation accuracy:\t\t97.37 %\n",
      "\n",
      "Epoch 14 of 70 took 17.384s\n",
      "  loss:\t\t\t0.167082,0.114624\n",
      "  validation accuracy:\t\t97.43 %\n",
      "\n",
      "Epoch 15 of 70 took 11.964s\n",
      "  loss:\t\t\t0.161700,0.111516\n",
      "  validation accuracy:\t\t97.40 %\n",
      "\n",
      "Epoch 16 of 70 took 14.124s\n",
      "  loss:\t\t\t0.158776,0.108673\n",
      "  validation accuracy:\t\t97.57 %\n",
      "\n",
      "Epoch 17 of 70 took 12.898s\n",
      "  loss:\t\t\t0.152846,0.106090\n",
      "  validation accuracy:\t\t97.67 %\n",
      "\n",
      "Epoch 18 of 70 took 12.264s\n",
      "  loss:\t\t\t0.151579,0.103962\n",
      "  validation accuracy:\t\t97.67 %\n",
      "\n",
      "Epoch 19 of 70 took 12.249s\n",
      "  loss:\t\t\t0.145117,0.101849\n",
      "  validation accuracy:\t\t97.63 %\n",
      "\n",
      "Epoch 20 of 70 took 12.988s\n",
      "  loss:\t\t\t0.144076,0.099852\n",
      "  validation accuracy:\t\t97.60 %\n",
      "\n",
      "Epoch 21 of 70 took 15.674s\n",
      "  loss:\t\t\t0.137850,0.097800\n",
      "  validation accuracy:\t\t97.57 %\n",
      "\n",
      "Epoch 22 of 70 took 14.797s\n",
      "  loss:\t\t\t0.136211,0.094996\n",
      "  validation accuracy:\t\t97.57 %\n",
      "\n",
      "Epoch 23 of 70 took 18.786s\n",
      "  loss:\t\t\t0.131835,0.094025\n",
      "  validation accuracy:\t\t97.57 %\n",
      "\n",
      "Epoch 24 of 70 took 12.939s\n",
      "  loss:\t\t\t0.132562,0.092713\n",
      "  validation accuracy:\t\t97.63 %\n",
      "\n",
      "Epoch 25 of 70 took 16.936s\n",
      "  loss:\t\t\t0.130486,0.090502\n",
      "  validation accuracy:\t\t97.67 %\n",
      "\n",
      "Epoch 26 of 70 took 12.429s\n",
      "  loss:\t\t\t0.123622,0.088806\n",
      "  validation accuracy:\t\t97.67 %\n",
      "\n",
      "Epoch 27 of 70 took 12.170s\n",
      "  loss:\t\t\t0.122399,0.087692\n",
      "  validation accuracy:\t\t97.77 %\n",
      "\n",
      "Epoch 28 of 70 took 12.515s\n",
      "  loss:\t\t\t0.120903,0.086169\n",
      "  validation accuracy:\t\t97.73 %\n",
      "\n",
      "Epoch 29 of 70 took 13.452s\n",
      "  loss:\t\t\t0.117233,0.084629\n",
      "  validation accuracy:\t\t97.70 %\n",
      "\n",
      "Epoch 30 of 70 took 14.390s\n",
      "  loss:\t\t\t0.114800,0.083683\n",
      "  validation accuracy:\t\t97.73 %\n",
      "\n",
      "Epoch 31 of 70 took 12.223s\n",
      "  loss:\t\t\t0.113928,0.082129\n",
      "  validation accuracy:\t\t97.77 %\n",
      "\n",
      "Epoch 32 of 70 took 12.848s\n",
      "  loss:\t\t\t0.110538,0.081069\n",
      "  validation accuracy:\t\t97.73 %\n",
      "\n",
      "Epoch 33 of 70 took 12.947s\n",
      "  loss:\t\t\t0.110034,0.080983\n",
      "  validation accuracy:\t\t97.77 %\n",
      "\n",
      "Epoch 34 of 70 took 13.731s\n",
      "  loss:\t\t\t0.106536,0.079748\n",
      "  validation accuracy:\t\t97.73 %\n",
      "\n",
      "Epoch 35 of 70 took 12.486s\n",
      "  loss:\t\t\t0.105312,0.079347\n",
      "  validation accuracy:\t\t97.73 %\n",
      "\n",
      "Epoch 36 of 70 took 15.146s\n",
      "  loss:\t\t\t0.105296,0.078024\n",
      "  validation accuracy:\t\t97.80 %\n",
      "\n",
      "Epoch 37 of 70 took 14.302s\n",
      "  loss:\t\t\t0.104826,0.076669\n",
      "  validation accuracy:\t\t97.73 %\n",
      "\n",
      "Epoch 38 of 70 took 16.385s\n",
      "  loss:\t\t\t0.098495,0.076860\n",
      "  validation accuracy:\t\t97.73 %\n",
      "\n",
      "Epoch 39 of 70 took 15.101s\n",
      "  loss:\t\t\t0.100357,0.075683\n",
      "  validation accuracy:\t\t97.77 %\n",
      "\n",
      "Epoch 40 of 70 took 13.375s\n",
      "  loss:\t\t\t0.096035,0.075858\n",
      "  validation accuracy:\t\t97.67 %\n",
      "\n",
      "Epoch 41 of 70 took 13.511s\n",
      "  loss:\t\t\t0.095636,0.074045\n",
      "  validation accuracy:\t\t97.70 %\n",
      "\n",
      "Epoch 42 of 70 took 16.651s\n",
      "  loss:\t\t\t0.092655,0.073902\n",
      "  validation accuracy:\t\t97.77 %\n",
      "\n",
      "Epoch 43 of 70 took 16.840s\n",
      "  loss:\t\t\t0.092510,0.073126\n",
      "  validation accuracy:\t\t97.63 %\n",
      "\n",
      "Epoch 44 of 70 took 14.242s\n",
      "  loss:\t\t\t0.090868,0.072758\n",
      "  validation accuracy:\t\t97.60 %\n",
      "\n",
      "Epoch 45 of 70 took 18.956s\n",
      "  loss:\t\t\t0.089616,0.072418\n",
      "  validation accuracy:\t\t97.60 %\n",
      "\n",
      "Epoch 46 of 70 took 14.669s\n",
      "  loss:\t\t\t0.085844,0.071076\n",
      "  validation accuracy:\t\t97.70 %\n",
      "\n",
      "Epoch 47 of 70 took 15.851s\n",
      "  loss:\t\t\t0.086567,0.071182\n",
      "  validation accuracy:\t\t97.57 %\n",
      "\n",
      "Epoch 48 of 70 took 14.919s\n",
      "  loss:\t\t\t0.082703,0.071324\n",
      "  validation accuracy:\t\t97.50 %\n",
      "\n",
      "Epoch 49 of 70 took 11.197s\n",
      "  loss:\t\t\t0.084047,0.070564\n",
      "  validation accuracy:\t\t97.60 %\n",
      "\n",
      "Epoch 50 of 70 took 11.906s\n",
      "  loss:\t\t\t0.082885,0.070081\n",
      "  validation accuracy:\t\t97.53 %\n",
      "\n",
      "Epoch 51 of 70 took 14.802s\n",
      "  loss:\t\t\t0.080944,0.069598\n",
      "  validation accuracy:\t\t97.63 %\n",
      "\n",
      "Epoch 52 of 70 took 11.685s\n",
      "  loss:\t\t\t0.079947,0.069301\n",
      "  validation accuracy:\t\t97.50 %\n",
      "\n",
      "Epoch 53 of 70 took 11.910s\n",
      "  loss:\t\t\t0.079139,0.069935\n",
      "  validation accuracy:\t\t97.60 %\n",
      "\n",
      "Epoch 54 of 70 took 13.581s\n",
      "  loss:\t\t\t0.078914,0.068953\n",
      "  validation accuracy:\t\t97.47 %\n",
      "\n",
      "Epoch 55 of 70 took 15.783s\n",
      "  loss:\t\t\t0.076995,0.067884\n",
      "  validation accuracy:\t\t97.50 %\n",
      "\n",
      "Epoch 56 of 70 took 12.655s\n",
      "  loss:\t\t\t0.074032,0.068710\n",
      "  validation accuracy:\t\t97.50 %\n",
      "\n",
      "Epoch 57 of 70 took 12.326s\n",
      "  loss:\t\t\t0.076259,0.067769\n",
      "  validation accuracy:\t\t97.67 %\n",
      "\n",
      "Epoch 58 of 70 took 13.152s\n",
      "  loss:\t\t\t0.074223,0.068150\n",
      "  validation accuracy:\t\t97.53 %\n",
      "\n",
      "Epoch 59 of 70 took 18.004s\n",
      "  loss:\t\t\t0.072285,0.068807\n",
      "  validation accuracy:\t\t97.60 %\n",
      "\n",
      "Epoch 60 of 70 took 12.657s\n",
      "  loss:\t\t\t0.074975,0.067872\n",
      "  validation accuracy:\t\t97.50 %\n",
      "\n",
      "Epoch 61 of 70 took 14.261s\n",
      "  loss:\t\t\t0.068727,0.066872\n",
      "  validation accuracy:\t\t97.57 %\n",
      "\n",
      "Epoch 62 of 70 took 12.115s\n",
      "  loss:\t\t\t0.071636,0.067797\n",
      "  validation accuracy:\t\t97.63 %\n",
      "\n",
      "Epoch 63 of 70 took 12.704s\n",
      "  loss:\t\t\t0.068594,0.066716\n",
      "  validation accuracy:\t\t97.77 %\n",
      "\n",
      "Epoch 64 of 70 took 13.729s\n",
      "  loss:\t\t\t0.066645,0.067238\n",
      "  validation accuracy:\t\t97.60 %\n",
      "\n",
      "Epoch 65 of 70 took 14.533s\n",
      "  loss:\t\t\t0.065830,0.066451\n",
      "  validation accuracy:\t\t97.67 %\n",
      "\n",
      "Epoch 66 of 70 took 11.087s\n",
      "  loss:\t\t\t0.066179,0.066970\n",
      "  validation accuracy:\t\t97.53 %\n",
      "\n",
      "Epoch 67 of 70 took 10.968s\n",
      "  loss:\t\t\t0.065651,0.067309\n",
      "  validation accuracy:\t\t97.63 %\n",
      "\n",
      "Epoch 68 of 70 took 11.440s\n",
      "  loss:\t\t\t0.064049,0.065495\n",
      "  validation accuracy:\t\t97.53 %\n",
      "\n",
      "Epoch 69 of 70 took 14.789s\n",
      "  loss:\t\t\t0.064021,0.065608\n",
      "  validation accuracy:\t\t97.63 %\n",
      "\n",
      "Epoch 70 of 70 took 12.100s\n",
      "  loss:\t\t\t0.061481,0.066879\n",
      "  validation accuracy:\t\t97.70 %\n"
     ]
    }
   ],
   "source": [
    "num_epochs = 70\n",
    "lr = 1e-4\n",
    "for epoch in range(num_epochs):\n",
    "    # In each epoch, we do a full pass over the training data:\n",
    "    train_err = 0\n",
    "    train_batches = 0\n",
    "    start_time = time.time()\n",
    "    for batch in get_batches((X_train, y_train), 1000):\n",
    "        inputs, targets = batch\n",
    "        train_err += train_fn(inputs, targets, lr)\n",
    "        train_batches += 1\n",
    "        sys.stdout.flush()\n",
    "    \n",
    "    # And a full pass over the validation data:\n",
    "    val_err = 0\n",
    "    val_acc = 0\n",
    "    val_batches = 0\n",
    "    for batch in get_batches((X_val, y_val), 500):\n",
    "        inputs, targets = batch\n",
    "        err, acc = val_fn(inputs, targets)\n",
    "        val_err += err\n",
    "        val_acc += acc\n",
    "        val_batches += 1\n",
    "\n",
    "#     # Then we print the results for this epoch:\n",
    "#     if epoch % 5 == 0: \n",
    "    print(\"\\nEpoch {} of {} took {:.3f}s\".format(\n",
    "        epoch + 1, num_epochs, time.time() - start_time))\n",
    "    print(\"  loss:\\t\\t\\t{:.6f},{:.6f}\".format(train_err / train_batches, val_err / val_batches))\n",
    "    print(\"  validation accuracy:\\t\\t{:.2f} %\".format(\n",
    "        val_acc / val_batches * 100))\n",
    "    sys.stdout.flush()"
   ]
  },
  {
   "cell_type": "code",
   "execution_count": 14,
   "metadata": {
    "collapsed": false
   },
   "outputs": [
    {
     "name": "stdout",
     "output_type": "stream",
     "text": [
      "Train: 0.9950 0.9956 0.9943 0.9949\n",
      "Valid: 0.9770 0.9838 0.9701 0.9769\n"
     ]
    }
   ],
   "source": [
    "y_true, y_pred = [], []\n",
    "for batch in get_batches((X_train, y_train), 500):\n",
    "    inputs, targets = batch\n",
    "    y_pred.extend((predict(inputs)[:,1] > 0.5).astype(int))\n",
    "    y_true.extend(targets)\n",
    "print('Train: %.4f %.4f %.4f %.4f' %\\\n",
    "      (accuracy_score(y_true, y_pred),\\\n",
    "       precision_score(y_true, y_pred),\\\n",
    "       recall_score(y_true, y_pred),\\\n",
    "       f1_score(y_true, y_pred)))\n",
    "\n",
    "y_true, y_pred = [], []\n",
    "for batch in get_batches((X_val, y_val), 500):\n",
    "    inputs, targets = batch\n",
    "    y_pred.extend((predict(inputs)[:,1] > 0.5).astype(int))\n",
    "    y_true.extend(targets)\n",
    "    \n",
    "print('Valid: %.4f %.4f %.4f %.4f' %\\\n",
    "      (accuracy_score(y_true, y_pred),\\\n",
    "       precision_score(y_true, y_pred),\\\n",
    "       recall_score(y_true, y_pred),\\\n",
    "       f1_score(y_true, y_pred)))"
   ]
  },
  {
   "cell_type": "code",
   "execution_count": null,
   "metadata": {
    "collapsed": true
   },
   "outputs": [],
   "source": [
    "y_pred = pd.DataFrame(predict(X_test)[:,1] > 0.5, columns=['label'], index=X_test.index)\n",
    "y_pred[y_pred['label'] == False] = 'cat'\n",
    "y_pred[y_pred['label'] == True] = 'dog'\n",
    "y_pred.to_csv('vgg_nn.csv', index_label='file')"
   ]
  },
  {
   "cell_type": "markdown",
   "metadata": {},
   "source": [
    "-----\n",
    "\n",
    "### XGBoost"
   ]
  },
  {
   "cell_type": "code",
   "execution_count": 15,
   "metadata": {
    "collapsed": false
   },
   "outputs": [
    {
     "data": {
      "text/plain": [
       "XGBClassifier(base_score=0.5, colsample_bytree=0.5, gamma=0,\n",
       "       learning_rate=0.1, max_delta_step=0, max_depth=5,\n",
       "       min_child_weight=5, n_estimators=200, nthread=4,\n",
       "       objective='binary:logistic', seed=0, silent=True, subsample=0.8)"
      ]
     },
     "execution_count": 15,
     "metadata": {},
     "output_type": "execute_result"
    }
   ],
   "source": [
    "# finetuned\n",
    "clf = xgboost.XGBClassifier(\n",
    "        max_depth=5, \n",
    "        min_child_weight=5,\n",
    "        subsample=0.8,\n",
    "        colsample_bytree = 0.5,\n",
    "        n_estimators=200,\n",
    "        objective='binary:logistic', nthread=4)\n",
    "clf.fit(X_train, y_train)"
   ]
  },
  {
   "cell_type": "code",
   "execution_count": 16,
   "metadata": {
    "collapsed": false
   },
   "outputs": [
    {
     "name": "stdout",
     "output_type": "stream",
     "text": [
      "Accuracy:\t0.9763\n",
      "Precition:\t0.9793\n",
      "Recall:\t\t0.9734\n",
      "F1-score:\t0.9764\n"
     ]
    }
   ],
   "source": [
    "y_pred = clf.predict(X_val)\n",
    "\n",
    "print('Accuracy:\\t%.4f' % accuracy_score(y_val, y_pred))\n",
    "print('Precition:\\t%.4f' % precision_score(y_val, y_pred))\n",
    "print('Recall:\\t\\t%.4f' % recall_score(y_val, y_pred))\n",
    "print('F1-score:\\t%.4f' % f1_score(y_val, y_pred))"
   ]
  },
  {
   "cell_type": "code",
   "execution_count": 11,
   "metadata": {
    "collapsed": true
   },
   "outputs": [],
   "source": [
    "y_pred = pd.DataFrame(clf.predict(X_test), columns=['label'], index=X_test.index)\n",
    "y_pred[y_pred['label'] == 0] = 'cat'\n",
    "y_pred[y_pred['label'] == 1] = 'dog'\n",
    "y_pred.to_csv('vgg_xgbst.csv', index_label='file')"
   ]
  }
 ],
 "metadata": {
  "anaconda-cloud": {},
  "kernelspec": {
   "display_name": "Python [default]",
   "language": "python",
   "name": "python2"
  },
  "language_info": {
   "codemirror_mode": {
    "name": "ipython",
    "version": 2
   },
   "file_extension": ".py",
   "mimetype": "text/x-python",
   "name": "python",
   "nbconvert_exporter": "python",
   "pygments_lexer": "ipython2",
   "version": "2.7.12"
  }
 },
 "nbformat": 4,
 "nbformat_minor": 1
}
